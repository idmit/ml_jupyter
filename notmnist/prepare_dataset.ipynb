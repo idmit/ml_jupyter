{
 "cells": [
  {
   "cell_type": "code",
   "execution_count": 1,
   "metadata": {
    "collapsed": false
   },
   "outputs": [],
   "source": [
    "from keras.utils import np_utils\n",
    "import numpy as np\n",
    "import os\n",
    "import pickle\n",
    "\n",
    "from scipy.ndimage import imread"
   ]
  },
  {
   "cell_type": "code",
   "execution_count": 2,
   "metadata": {
    "collapsed": false
   },
   "outputs": [],
   "source": [
    "dataset_dir = '../datasets/notMNIST_small'\n",
    "\n",
    "\n",
    "def complete_path(*args):\n",
    "    full_args = (dataset_dir,) + args\n",
    "    return os.path.join(*full_args)\n",
    "\n",
    "\n",
    "def load_dataset(dataset_dir):\n",
    "    dataset = [None for _ in range(10)]\n",
    "    for dir_name in os.listdir(dataset_dir):\n",
    "        if os.path.isfile(complete_path(dir_name)):\n",
    "            continue\n",
    "        image_list = [None for _ in range(1873)]\n",
    "        idx = 0\n",
    "        for file_name in os.listdir(complete_path(dir_name)):\n",
    "            if not file_name.endswith('.png'):\n",
    "                continue\n",
    "            try:\n",
    "                image_list[idx] = imread(complete_path(dir_name, file_name))\n",
    "            except OSError:\n",
    "                pass\n",
    "            idx += 1\n",
    "            \n",
    "        image_list = [img for img in image_list if img is not None]\n",
    "        clazz = ord(dir_name) - ord('A')\n",
    "        dataset[clazz] = (np.array(image_list), np_utils.to_categorical(np.array([clazz for _ in image_list]), nb_classes))\n",
    "\n",
    "    return dataset"
   ]
  },
  {
   "cell_type": "code",
   "execution_count": 3,
   "metadata": {
    "collapsed": false
   },
   "outputs": [],
   "source": [
    "dataset = load_dataset(dataset_dir)"
   ]
  },
  {
   "cell_type": "code",
   "execution_count": 4,
   "metadata": {
    "collapsed": false
   },
   "outputs": [],
   "source": [
    "with open('../datasets/notmnist.pickle', \"wb\") as pickle_file:\n",
    "    pickle.dump(dataset, pickle_file)"
   ]
  }
 ],
 "metadata": {
  "kernelspec": {
   "display_name": "Python 3",
   "language": "python",
   "name": "python3"
  },
  "language_info": {
   "codemirror_mode": {
    "name": "ipython",
    "version": 3
   },
   "file_extension": ".py",
   "mimetype": "text/x-python",
   "name": "python",
   "nbconvert_exporter": "python",
   "pygments_lexer": "ipython3",
   "version": "3.5.2"
  }
 },
 "nbformat": 4,
 "nbformat_minor": 0
}

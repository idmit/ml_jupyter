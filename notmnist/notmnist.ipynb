{
 "cells": [
  {
   "cell_type": "markdown",
   "metadata": {},
   "source": [
    "# Loading and preparing data"
   ]
  },
  {
   "cell_type": "code",
   "execution_count": 2,
   "metadata": {
    "collapsed": true
   },
   "outputs": [],
   "source": [
    "import numpy as np"
   ]
  },
  {
   "cell_type": "code",
   "execution_count": 3,
   "metadata": {
    "collapsed": true
   },
   "outputs": [],
   "source": [
    "with open('../datasets/notmnist.pcl3', 'rb') as pickle_file:\n",
    "    import pickle\n",
    "    dataset = pickle.load(pickle_file)"
   ]
  },
  {
   "cell_type": "code",
   "execution_count": 4,
   "metadata": {
    "collapsed": true
   },
   "outputs": [],
   "source": [
    "def rearrange(dataset):\n",
    "    xs = [[None for _ in range(10)] for _ in range(3)]\n",
    "    ys = [[None for _ in range(10)] for _ in range(3)]\n",
    "\n",
    "    for idx, letter_data in enumerate(dataset):\n",
    "        np.random.shuffle(letter_data[0])\n",
    "\n",
    "        sz = len(letter_data[1])\n",
    "        from math import ceil\n",
    "        bds = [ceil(sz * 0.8), ceil(sz * 0.9)]\n",
    "        \n",
    "        xs[0][idx], xs[1][idx], xs[2][idx] = np.split(letter_data[0], bds)\n",
    "        ys[0][idx], ys[1][idx], ys[2][idx] = np.split(letter_data[1], bds)\n",
    "\n",
    "    return [np.concatenate(tuple(lst)) for pair in zip(xs, ys) for lst in pair]"
   ]
  },
  {
   "cell_type": "code",
   "execution_count": 5,
   "metadata": {
    "collapsed": false
   },
   "outputs": [],
   "source": [
    "def shuffled(arys):\n",
    "    from operator import itemgetter\n",
    "    p = np.random.permutation(arys[0].shape[0])\n",
    "    return map(itemgetter(p), arys)\n",
    "\n",
    "rearranged = rearrange(dataset)\n",
    "    \n",
    "x_train, y_train = shuffled(rearranged[:2])\n",
    "x_valid, y_valid = shuffled(rearranged[2:4])\n",
    "x_test, y_test = shuffled(rearranged[4:])\n",
    "\n",
    "train_len, valid_len, test_len = map(len, [y_train, y_valid, y_test])"
   ]
  },
  {
   "cell_type": "code",
   "execution_count": 7,
   "metadata": {
    "collapsed": true
   },
   "outputs": [],
   "source": [
    "def chart_acc(fit_history):\n",
    "    from altair import Chart\n",
    "    import pandas as pd\n",
    "    \n",
    "    history = pd.DataFrame(fit_history.history)\n",
    "    history['epoch'] = range(len(history))\n",
    "\n",
    "    tidy_history = pd.melt(history,\n",
    "                           id_vars=['epoch'],\n",
    "                           value_vars=['val_acc', 'acc'],\n",
    "                           var_name='metric')\n",
    "    \n",
    "    return Chart(tidy_history).mark_line().encode(\n",
    "        x='epoch:O',\n",
    "        y='value:Q',\n",
    "        color='metric'\n",
    "    )"
   ]
  },
  {
   "cell_type": "markdown",
   "metadata": {},
   "source": [
    "# Model A (one layer)"
   ]
  },
  {
   "cell_type": "code",
   "execution_count": 8,
   "metadata": {
    "collapsed": false
   },
   "outputs": [],
   "source": [
    "from keras.models import Sequential\n",
    "from keras.layers.core import Dense, Flatten"
   ]
  },
  {
   "cell_type": "code",
   "execution_count": 8,
   "metadata": {
    "collapsed": false
   },
   "outputs": [],
   "source": [
    "model_a = Sequential([\n",
    "        Flatten(input_shape=(28, 28)),\n",
    "        Dense(10, activation='softmax', input_shape=(28, 28))])\n",
    "\n",
    "model_a.compile(loss='categorical_crossentropy',\n",
    "                optimizer='sgd',\n",
    "                metrics=['accuracy'])"
   ]
  },
  {
   "cell_type": "code",
   "execution_count": 9,
   "metadata": {
    "collapsed": false
   },
   "outputs": [
    {
     "name": "stdout",
     "output_type": "stream",
     "text": [
      "____________________________________________________________________________________________________\n",
      "Layer (type)                     Output Shape          Param #     Connected to                     \n",
      "====================================================================================================\n",
      "flatten_1 (Flatten)              (None, 784)           0           flatten_input_1[0][0]            \n",
      "____________________________________________________________________________________________________\n",
      "dense_1 (Dense)                  (None, 10)            7850        flatten_1[0][0]                  \n",
      "====================================================================================================\n",
      "Total params: 7850\n",
      "____________________________________________________________________________________________________\n"
     ]
    }
   ],
   "source": [
    "model_a.summary()"
   ]
  },
  {
   "cell_type": "code",
   "execution_count": 10,
   "metadata": {
    "collapsed": false
   },
   "outputs": [
    {
     "name": "stdout",
     "output_type": "stream",
     "text": [
      "Train on 14984 samples, validate on 1870 samples\n",
      "Epoch 1/40\n",
      "14984/14984 [==============================] - 0s - loss: 13.9336 - acc: 0.1352 - val_loss: 13.5632 - val_acc: 0.1578\n",
      "Epoch 2/40\n",
      "14984/14984 [==============================] - 0s - loss: 13.3146 - acc: 0.1737 - val_loss: 13.0238 - val_acc: 0.1920\n",
      "Epoch 3/40\n",
      "14984/14984 [==============================] - 0s - loss: 13.1518 - acc: 0.1839 - val_loss: 13.0151 - val_acc: 0.1925\n",
      "Epoch 4/40\n",
      "14984/14984 [==============================] - 0s - loss: 13.0950 - acc: 0.1875 - val_loss: 12.9979 - val_acc: 0.1936\n",
      "Epoch 5/40\n",
      "14984/14984 [==============================] - 0s - loss: 13.1529 - acc: 0.1837 - val_loss: 13.0619 - val_acc: 0.1893\n",
      "Epoch 6/40\n",
      "14984/14984 [==============================] - 0s - loss: 13.1534 - acc: 0.1839 - val_loss: 12.9955 - val_acc: 0.1936\n",
      "Epoch 7/40\n",
      "14984/14984 [==============================] - 0s - loss: 13.0943 - acc: 0.1875 - val_loss: 13.0324 - val_acc: 0.1914\n",
      "Epoch 8/40\n",
      "14984/14984 [==============================] - 0s - loss: 13.0926 - acc: 0.1876 - val_loss: 13.0669 - val_acc: 0.1893\n",
      "Epoch 9/40\n",
      "14984/14984 [==============================] - 0s - loss: 13.0990 - acc: 0.1872 - val_loss: 13.0065 - val_acc: 0.1930\n",
      "Epoch 10/40\n",
      "14984/14984 [==============================] - 0s - loss: 13.0406 - acc: 0.1909 - val_loss: 13.0065 - val_acc: 0.1930\n",
      "Epoch 11/40\n",
      "14984/14984 [==============================] - 0s - loss: 13.0406 - acc: 0.1909 - val_loss: 13.0065 - val_acc: 0.1930\n",
      "Epoch 12/40\n",
      "14984/14984 [==============================] - 0s - loss: 13.0406 - acc: 0.1909 - val_loss: 13.0065 - val_acc: 0.1930\n",
      "Epoch 13/40\n",
      "14984/14984 [==============================] - 0s - loss: 13.0406 - acc: 0.1909 - val_loss: 13.0065 - val_acc: 0.1930\n",
      "Epoch 14/40\n",
      "14984/14984 [==============================] - 0s - loss: 13.0406 - acc: 0.1909 - val_loss: 13.0065 - val_acc: 0.1930\n",
      "Epoch 15/40\n",
      "14984/14984 [==============================] - 0s - loss: 13.0406 - acc: 0.1909 - val_loss: 13.0065 - val_acc: 0.1930\n",
      "Epoch 16/40\n",
      "14984/14984 [==============================] - 0s - loss: 13.0406 - acc: 0.1909 - val_loss: 13.0065 - val_acc: 0.1930\n",
      "Epoch 17/40\n",
      "14984/14984 [==============================] - 0s - loss: 13.0406 - acc: 0.1909 - val_loss: 13.0065 - val_acc: 0.1930\n",
      "Epoch 18/40\n",
      "14984/14984 [==============================] - 0s - loss: 13.0406 - acc: 0.1909 - val_loss: 13.0065 - val_acc: 0.1930\n",
      "Epoch 19/40\n",
      "14984/14984 [==============================] - 0s - loss: 13.0406 - acc: 0.1909 - val_loss: 13.0065 - val_acc: 0.1930\n",
      "Epoch 20/40\n",
      "14984/14984 [==============================] - 0s - loss: 13.0406 - acc: 0.1909 - val_loss: 13.0065 - val_acc: 0.1930\n",
      "Epoch 21/40\n",
      "14984/14984 [==============================] - 0s - loss: 13.0406 - acc: 0.1909 - val_loss: 13.0065 - val_acc: 0.1930\n",
      "Epoch 22/40\n",
      "14984/14984 [==============================] - 0s - loss: 13.0406 - acc: 0.1909 - val_loss: 13.0065 - val_acc: 0.1930\n",
      "Epoch 23/40\n",
      "14984/14984 [==============================] - 0s - loss: 13.0406 - acc: 0.1909 - val_loss: 13.0065 - val_acc: 0.1930\n",
      "Epoch 24/40\n",
      "14984/14984 [==============================] - 0s - loss: 13.0406 - acc: 0.1909 - val_loss: 13.0065 - val_acc: 0.1930\n",
      "Epoch 25/40\n",
      "14984/14984 [==============================] - 0s - loss: 13.0406 - acc: 0.1909 - val_loss: 13.0065 - val_acc: 0.1930\n",
      "Epoch 26/40\n",
      "14984/14984 [==============================] - 0s - loss: 13.0406 - acc: 0.1909 - val_loss: 13.0065 - val_acc: 0.1930\n",
      "Epoch 27/40\n",
      "14984/14984 [==============================] - 0s - loss: 13.0406 - acc: 0.1909 - val_loss: 13.0065 - val_acc: 0.1930\n",
      "Epoch 28/40\n",
      "14984/14984 [==============================] - 0s - loss: 13.0406 - acc: 0.1909 - val_loss: 13.0065 - val_acc: 0.1930\n",
      "Epoch 29/40\n",
      "14984/14984 [==============================] - 0s - loss: 13.0406 - acc: 0.1909 - val_loss: 13.0065 - val_acc: 0.1930\n",
      "Epoch 30/40\n",
      "14984/14984 [==============================] - 0s - loss: 13.0406 - acc: 0.1909 - val_loss: 13.0065 - val_acc: 0.1930\n",
      "Epoch 31/40\n",
      "14984/14984 [==============================] - 0s - loss: 13.0406 - acc: 0.1909 - val_loss: 13.0065 - val_acc: 0.1930\n",
      "Epoch 32/40\n",
      "14984/14984 [==============================] - 0s - loss: 13.0406 - acc: 0.1909 - val_loss: 13.0065 - val_acc: 0.1930\n",
      "Epoch 33/40\n",
      "14984/14984 [==============================] - 0s - loss: 13.0406 - acc: 0.1909 - val_loss: 13.0065 - val_acc: 0.1930\n",
      "Epoch 34/40\n",
      "14984/14984 [==============================] - 0s - loss: 13.0406 - acc: 0.1909 - val_loss: 13.0065 - val_acc: 0.1930\n",
      "Epoch 35/40\n",
      "14984/14984 [==============================] - 0s - loss: 13.0406 - acc: 0.1909 - val_loss: 13.0065 - val_acc: 0.1930\n",
      "Epoch 36/40\n",
      "14984/14984 [==============================] - 0s - loss: 13.0406 - acc: 0.1909 - val_loss: 13.0065 - val_acc: 0.1930\n",
      "Epoch 37/40\n",
      "14984/14984 [==============================] - 0s - loss: 13.0406 - acc: 0.1909 - val_loss: 13.0065 - val_acc: 0.1930\n",
      "Epoch 38/40\n",
      "14984/14984 [==============================] - 0s - loss: 13.0406 - acc: 0.1909 - val_loss: 13.0065 - val_acc: 0.1930\n",
      "Epoch 39/40\n",
      "14984/14984 [==============================] - 0s - loss: 13.0406 - acc: 0.1909 - val_loss: 13.0065 - val_acc: 0.1930\n",
      "Epoch 40/40\n",
      "14984/14984 [==============================] - 0s - loss: 13.0406 - acc: 0.1909 - val_loss: 13.0065 - val_acc: 0.1930\n"
     ]
    }
   ],
   "source": [
    "fit_history_a = model_a.fit(x_train, y_train,\n",
    "                    batch_size=128, nb_epoch=40, verbose=1,\n",
    "                    validation_data=(x_valid, y_valid))"
   ]
  },
  {
   "cell_type": "code",
   "execution_count": 11,
   "metadata": {
    "collapsed": false
   },
   "outputs": [
    {
     "data": {
      "text/html": [
       "<div class=\"vega-embed\" id=\"5b02fa17-dc5f-4337-b075-a7778b628256\"></div>\n",
       "\n",
       "<style>\n",
       ".vega-embed svg, .vega-embed canvas {\n",
       "  border: 1px dotted gray;\n",
       "}\n",
       "\n",
       ".vega-embed .vega-actions a {\n",
       "  margin-right: 6px;\n",
       "}\n",
       "</style>\n"
      ]
     },
     "metadata": {
      "jupyter-vega": "#5b02fa17-dc5f-4337-b075-a7778b628256"
     },
     "output_type": "display_data"
    },
    {
     "data": {
      "application/javascript": [
       "var spec = {\"encoding\": {\"y\": {\"type\": \"quantitative\", \"field\": \"value\"}, \"color\": {\"type\": \"nominal\", \"field\": \"metric\"}, \"x\": {\"type\": \"ordinal\", \"field\": \"epoch\"}}, \"mark\": \"line\", \"config\": {\"cell\": {\"height\": 350, \"width\": 500}}, \"data\": {\"values\": [{\"value\": 0.15775401096611738, \"epoch\": 0, \"metric\": \"val_acc\"}, {\"value\": 0.19197860973722794, \"epoch\": 1, \"metric\": \"val_acc\"}, {\"value\": 0.19251336909551672, \"epoch\": 2, \"metric\": \"val_acc\"}, {\"value\": 0.19358288778022012, \"epoch\": 3, \"metric\": \"val_acc\"}, {\"value\": 0.18930481291390996, \"epoch\": 4, \"metric\": \"val_acc\"}, {\"value\": 0.19358288778022012, \"epoch\": 5, \"metric\": \"val_acc\"}, {\"value\": 0.19144385034706504, \"epoch\": 6, \"metric\": \"val_acc\"}, {\"value\": 0.1893048129457841, \"epoch\": 7, \"metric\": \"val_acc\"}, {\"value\": 0.19304812842193134, \"epoch\": 8, \"metric\": \"val_acc\"}, {\"value\": 0.19304812842193134, \"epoch\": 9, \"metric\": \"val_acc\"}, {\"value\": 0.19304812842193134, \"epoch\": 10, \"metric\": \"val_acc\"}, {\"value\": 0.19304812842193134, \"epoch\": 11, \"metric\": \"val_acc\"}, {\"value\": 0.19304812842193134, \"epoch\": 12, \"metric\": \"val_acc\"}, {\"value\": 0.19304812842193134, \"epoch\": 13, \"metric\": \"val_acc\"}, {\"value\": 0.19304812842193134, \"epoch\": 14, \"metric\": \"val_acc\"}, {\"value\": 0.19304812842193134, \"epoch\": 15, \"metric\": \"val_acc\"}, {\"value\": 0.19304812842193134, \"epoch\": 16, \"metric\": \"val_acc\"}, {\"value\": 0.19304812842193134, \"epoch\": 17, \"metric\": \"val_acc\"}, {\"value\": 0.19304812842193134, \"epoch\": 18, \"metric\": \"val_acc\"}, {\"value\": 0.19304812842193134, \"epoch\": 19, \"metric\": \"val_acc\"}, {\"value\": 0.19304812842193134, \"epoch\": 20, \"metric\": \"val_acc\"}, {\"value\": 0.19304812842193134, \"epoch\": 21, \"metric\": \"val_acc\"}, {\"value\": 0.19304812842193134, \"epoch\": 22, \"metric\": \"val_acc\"}, {\"value\": 0.19304812842193134, \"epoch\": 23, \"metric\": \"val_acc\"}, {\"value\": 0.19304812842193134, \"epoch\": 24, \"metric\": \"val_acc\"}, {\"value\": 0.19304812842193134, \"epoch\": 25, \"metric\": \"val_acc\"}, {\"value\": 0.19304812842193134, \"epoch\": 26, \"metric\": \"val_acc\"}, {\"value\": 0.19304812842193134, \"epoch\": 27, \"metric\": \"val_acc\"}, {\"value\": 0.19304812842193134, \"epoch\": 28, \"metric\": \"val_acc\"}, {\"value\": 0.19304812842193134, \"epoch\": 29, \"metric\": \"val_acc\"}, {\"value\": 0.19304812842193134, \"epoch\": 30, \"metric\": \"val_acc\"}, {\"value\": 0.19304812842193134, \"epoch\": 31, \"metric\": \"val_acc\"}, {\"value\": 0.19304812842193134, \"epoch\": 32, \"metric\": \"val_acc\"}, {\"value\": 0.19304812842193134, \"epoch\": 33, \"metric\": \"val_acc\"}, {\"value\": 0.19304812842193134, \"epoch\": 34, \"metric\": \"val_acc\"}, {\"value\": 0.19304812842193134, \"epoch\": 35, \"metric\": \"val_acc\"}, {\"value\": 0.19304812842193134, \"epoch\": 36, \"metric\": \"val_acc\"}, {\"value\": 0.19304812842193134, \"epoch\": 37, \"metric\": \"val_acc\"}, {\"value\": 0.19304812842193134, \"epoch\": 38, \"metric\": \"val_acc\"}, {\"value\": 0.19304812842193134, \"epoch\": 39, \"metric\": \"val_acc\"}, {\"value\": 0.13521089161772556, \"epoch\": 0, \"metric\": \"acc\"}, {\"value\": 0.17365189535504538, \"epoch\": 1, \"metric\": \"acc\"}, {\"value\": 0.1839295248264816, \"epoch\": 2, \"metric\": \"acc\"}, {\"value\": 0.18753336892685532, \"epoch\": 3, \"metric\": \"acc\"}, {\"value\": 0.1837293112653497, \"epoch\": 4, \"metric\": \"acc\"}, {\"value\": 0.18386278697277095, \"epoch\": 5, \"metric\": \"acc\"}, {\"value\": 0.18746663107314468, \"epoch\": 6, \"metric\": \"acc\"}, {\"value\": 0.18760010678056593, \"epoch\": 7, \"metric\": \"acc\"}, {\"value\": 0.1871996796583022, \"epoch\": 8, \"metric\": \"acc\"}, {\"value\": 0.19093699946609716, \"epoch\": 9, \"metric\": \"acc\"}, {\"value\": 0.19093699946609716, \"epoch\": 10, \"metric\": \"acc\"}, {\"value\": 0.19093699946609716, \"epoch\": 11, \"metric\": \"acc\"}, {\"value\": 0.19093699946609716, \"epoch\": 12, \"metric\": \"acc\"}, {\"value\": 0.19093699946609716, \"epoch\": 13, \"metric\": \"acc\"}, {\"value\": 0.19093699946609716, \"epoch\": 14, \"metric\": \"acc\"}, {\"value\": 0.19093699946609716, \"epoch\": 15, \"metric\": \"acc\"}, {\"value\": 0.19093699946609716, \"epoch\": 16, \"metric\": \"acc\"}, {\"value\": 0.19093699946609716, \"epoch\": 17, \"metric\": \"acc\"}, {\"value\": 0.19093699946609716, \"epoch\": 18, \"metric\": \"acc\"}, {\"value\": 0.19093699946609716, \"epoch\": 19, \"metric\": \"acc\"}, {\"value\": 0.19093699946609716, \"epoch\": 20, \"metric\": \"acc\"}, {\"value\": 0.19093699946609716, \"epoch\": 21, \"metric\": \"acc\"}, {\"value\": 0.19093699946609716, \"epoch\": 22, \"metric\": \"acc\"}, {\"value\": 0.19093699946609716, \"epoch\": 23, \"metric\": \"acc\"}, {\"value\": 0.19093699946609716, \"epoch\": 24, \"metric\": \"acc\"}, {\"value\": 0.19093699946609716, \"epoch\": 25, \"metric\": \"acc\"}, {\"value\": 0.19093699946609716, \"epoch\": 26, \"metric\": \"acc\"}, {\"value\": 0.19093699946609716, \"epoch\": 27, \"metric\": \"acc\"}, {\"value\": 0.19093699946609716, \"epoch\": 28, \"metric\": \"acc\"}, {\"value\": 0.19093699946609716, \"epoch\": 29, \"metric\": \"acc\"}, {\"value\": 0.19093699946609716, \"epoch\": 30, \"metric\": \"acc\"}, {\"value\": 0.19093699946609716, \"epoch\": 31, \"metric\": \"acc\"}, {\"value\": 0.19093699946609716, \"epoch\": 32, \"metric\": \"acc\"}, {\"value\": 0.19093699946609716, \"epoch\": 33, \"metric\": \"acc\"}, {\"value\": 0.19093699946609716, \"epoch\": 34, \"metric\": \"acc\"}, {\"value\": 0.19093699946609716, \"epoch\": 35, \"metric\": \"acc\"}, {\"value\": 0.19093699946609716, \"epoch\": 36, \"metric\": \"acc\"}, {\"value\": 0.19093699946609716, \"epoch\": 37, \"metric\": \"acc\"}, {\"value\": 0.19093699946609716, \"epoch\": 38, \"metric\": \"acc\"}, {\"value\": 0.19093699946609716, \"epoch\": 39, \"metric\": \"acc\"}]}};\n",
       "var selector = \"#5b02fa17-dc5f-4337-b075-a7778b628256\";\n",
       "var type = \"vega-lite\";\n",
       "\n",
       "var output_area = this;\n",
       "require(['nbextensions/jupyter-vega/index'], function(vega) {\n",
       "  vega.render(selector, spec, type, output_area);\n",
       "}, function (err) {\n",
       "  if (err.requireType !== 'scripterror') {\n",
       "    throw(err);\n",
       "  }\n",
       "});\n"
      ]
     },
     "metadata": {
      "jupyter-vega": "#5b02fa17-dc5f-4337-b075-a7778b628256"
     },
     "output_type": "display_data"
    },
    {
     "data": {
      "image/png": "[encoded data removed]"
     },
     "metadata": {
      "jupyter-vega": "#5b02fa17-dc5f-4337-b075-a7778b628256"
     },
     "output_type": "display_data"
    }
   ],
   "source": [
    "chart_acc(fit_history_a)"
   ]
  },
  {
   "cell_type": "code",
   "execution_count": 12,
   "metadata": {
    "collapsed": false
   },
   "outputs": [
    {
     "name": "stdout",
     "output_type": "stream",
     "text": [
      "1280/1870 [===================>..........] - ETA: 0sTest score: 13.0389580722\n",
      "Test accuracy: 0.190909090933\n"
     ]
    }
   ],
   "source": [
    "score = model_a.evaluate(x_test, y_test, verbose=1)\n",
    "print('Test score:', score[0])\n",
    "print('Test accuracy:', score[1])"
   ]
  },
  {
   "cell_type": "markdown",
   "metadata": {},
   "source": [
    "---\n",
    "# Model B (two layers)"
   ]
  },
  {
   "cell_type": "code",
   "execution_count": 13,
   "metadata": {
    "collapsed": false
   },
   "outputs": [],
   "source": [
    "model_b = Sequential([\n",
    "        Flatten(input_shape=(28, 28)),\n",
    "        Dense(1024, activation='tanh'),\n",
    "        Dense(10, activation='softmax')])\n",
    "\n",
    "model_b.compile(loss='categorical_crossentropy',\n",
    "              optimizer='sgd',\n",
    "              metrics=['accuracy'])"
   ]
  },
  {
   "cell_type": "code",
   "execution_count": 14,
   "metadata": {
    "collapsed": false
   },
   "outputs": [
    {
     "name": "stdout",
     "output_type": "stream",
     "text": [
      "____________________________________________________________________________________________________\n",
      "Layer (type)                     Output Shape          Param #     Connected to                     \n",
      "====================================================================================================\n",
      "flatten_2 (Flatten)              (None, 784)           0           flatten_input_2[0][0]            \n",
      "____________________________________________________________________________________________________\n",
      "dense_2 (Dense)                  (None, 1024)          803840      flatten_2[0][0]                  \n",
      "____________________________________________________________________________________________________\n",
      "dense_3 (Dense)                  (None, 10)            10250       dense_2[0][0]                    \n",
      "====================================================================================================\n",
      "Total params: 814090\n",
      "____________________________________________________________________________________________________\n"
     ]
    }
   ],
   "source": [
    "model_b.summary()"
   ]
  },
  {
   "cell_type": "code",
   "execution_count": 15,
   "metadata": {
    "collapsed": false
   },
   "outputs": [
    {
     "name": "stdout",
     "output_type": "stream",
     "text": [
      "Train on 14984 samples, validate on 1870 samples\n",
      "Epoch 1/40\n",
      "14984/14984 [==============================] - 2s - loss: 0.8303 - acc: 0.7708 - val_loss: 0.6548 - val_acc: 0.7882\n",
      "Epoch 2/40\n",
      "14984/14984 [==============================] - 2s - loss: 0.5311 - acc: 0.8629 - val_loss: 0.5365 - val_acc: 0.8578\n",
      "Epoch 3/40\n",
      "14984/14984 [==============================] - 2s - loss: 0.4705 - acc: 0.8780 - val_loss: 0.5029 - val_acc: 0.8695\n",
      "Epoch 4/40\n",
      "14984/14984 [==============================] - 2s - loss: 0.4412 - acc: 0.8858 - val_loss: 0.4582 - val_acc: 0.8850\n",
      "Epoch 5/40\n",
      "14984/14984 [==============================] - 2s - loss: 0.4286 - acc: 0.8887 - val_loss: 0.4833 - val_acc: 0.8711\n",
      "Epoch 6/40\n",
      "14984/14984 [==============================] - 2s - loss: 0.4201 - acc: 0.8889 - val_loss: 0.4638 - val_acc: 0.8872\n",
      "Epoch 7/40\n",
      "14984/14984 [==============================] - 2s - loss: 0.3923 - acc: 0.8982 - val_loss: 0.4725 - val_acc: 0.8775\n",
      "Epoch 8/40\n",
      "14984/14984 [==============================] - 2s - loss: 0.3861 - acc: 0.8997 - val_loss: 0.4345 - val_acc: 0.8850\n",
      "Epoch 9/40\n",
      "14984/14984 [==============================] - 2s - loss: 0.3775 - acc: 0.9041 - val_loss: 0.4242 - val_acc: 0.8861\n",
      "Epoch 10/40\n",
      "14984/14984 [==============================] - 2s - loss: 0.3686 - acc: 0.9040 - val_loss: 0.4701 - val_acc: 0.8770\n",
      "Epoch 11/40\n",
      "14984/14984 [==============================] - 2s - loss: 0.3522 - acc: 0.9066 - val_loss: 0.4061 - val_acc: 0.8957\n",
      "Epoch 12/40\n",
      "14984/14984 [==============================] - 2s - loss: 0.3474 - acc: 0.9096 - val_loss: 0.4092 - val_acc: 0.8979\n",
      "Epoch 13/40\n",
      "14984/14984 [==============================] - 2s - loss: 0.3418 - acc: 0.9100 - val_loss: 0.4804 - val_acc: 0.8540\n",
      "Epoch 14/40\n",
      "14984/14984 [==============================] - 2s - loss: 0.3416 - acc: 0.9108 - val_loss: 0.4443 - val_acc: 0.8797\n",
      "Epoch 15/40\n",
      "14984/14984 [==============================] - 2s - loss: 0.3400 - acc: 0.9123 - val_loss: 0.4137 - val_acc: 0.8898\n",
      "Epoch 16/40\n",
      "14984/14984 [==============================] - 2s - loss: 0.3336 - acc: 0.9127 - val_loss: 0.4401 - val_acc: 0.8684\n",
      "Epoch 17/40\n",
      "14984/14984 [==============================] - 2s - loss: 0.3381 - acc: 0.9129 - val_loss: 0.4302 - val_acc: 0.8893\n",
      "Epoch 18/40\n",
      "14984/14984 [==============================] - 2s - loss: 0.3376 - acc: 0.9150 - val_loss: 0.4330 - val_acc: 0.8866\n",
      "Epoch 19/40\n",
      "14984/14984 [==============================] - 2s - loss: 0.3294 - acc: 0.9146 - val_loss: 0.4570 - val_acc: 0.8636\n",
      "Epoch 20/40\n",
      "14984/14984 [==============================] - 2s - loss: 0.3224 - acc: 0.9161 - val_loss: 0.3935 - val_acc: 0.8973\n",
      "Epoch 21/40\n",
      "14984/14984 [==============================] - 2s - loss: 0.3206 - acc: 0.9169 - val_loss: 0.4261 - val_acc: 0.8882\n",
      "Epoch 22/40\n",
      "14984/14984 [==============================] - 2s - loss: 0.3223 - acc: 0.9156 - val_loss: 0.3912 - val_acc: 0.9032\n",
      "Epoch 23/40\n",
      "14984/14984 [==============================] - 2s - loss: 0.3187 - acc: 0.9176 - val_loss: 0.4031 - val_acc: 0.8952\n",
      "Epoch 24/40\n",
      "14984/14984 [==============================] - 2s - loss: 0.3123 - acc: 0.9188 - val_loss: 0.4303 - val_acc: 0.8872\n",
      "Epoch 25/40\n",
      "14984/14984 [==============================] - 2s - loss: 0.3128 - acc: 0.9169 - val_loss: 0.4136 - val_acc: 0.8947\n",
      "Epoch 26/40\n",
      "14984/14984 [==============================] - 2s - loss: 0.3104 - acc: 0.9189 - val_loss: 0.4379 - val_acc: 0.8882\n",
      "Epoch 27/40\n",
      "14984/14984 [==============================] - 2s - loss: 0.3152 - acc: 0.9199 - val_loss: 0.4188 - val_acc: 0.8989\n",
      "Epoch 28/40\n",
      "14984/14984 [==============================] - 2s - loss: 0.3051 - acc: 0.9204 - val_loss: 0.4495 - val_acc: 0.8791\n",
      "Epoch 29/40\n",
      "14984/14984 [==============================] - 2s - loss: 0.3142 - acc: 0.9182 - val_loss: 0.3877 - val_acc: 0.9021\n",
      "Epoch 30/40\n",
      "14984/14984 [==============================] - 2s - loss: 0.3053 - acc: 0.9194 - val_loss: 0.4119 - val_acc: 0.8866\n",
      "Epoch 31/40\n",
      "14984/14984 [==============================] - 2s - loss: 0.2973 - acc: 0.9208 - val_loss: 0.3827 - val_acc: 0.9070\n",
      "Epoch 32/40\n",
      "14984/14984 [==============================] - 2s - loss: 0.3054 - acc: 0.9210 - val_loss: 0.3988 - val_acc: 0.9043\n",
      "Epoch 33/40\n",
      "14984/14984 [==============================] - 2s - loss: 0.3024 - acc: 0.9231 - val_loss: 0.4074 - val_acc: 0.9032\n",
      "Epoch 34/40\n",
      "14984/14984 [==============================] - 2s - loss: 0.3004 - acc: 0.9238 - val_loss: 0.3900 - val_acc: 0.9005\n",
      "Epoch 35/40\n",
      "14984/14984 [==============================] - 2s - loss: 0.3018 - acc: 0.9224 - val_loss: 0.4366 - val_acc: 0.8898\n",
      "Epoch 36/40\n",
      "14984/14984 [==============================] - 2s - loss: 0.2929 - acc: 0.9237 - val_loss: 0.3948 - val_acc: 0.8989\n",
      "Epoch 37/40\n",
      "14984/14984 [==============================] - 2s - loss: 0.2884 - acc: 0.9257 - val_loss: 0.3962 - val_acc: 0.9000\n",
      "Epoch 38/40\n",
      "14984/14984 [==============================] - 2s - loss: 0.2901 - acc: 0.9255 - val_loss: 0.3970 - val_acc: 0.8973\n",
      "Epoch 39/40\n",
      "14984/14984 [==============================] - 2s - loss: 0.2990 - acc: 0.9257 - val_loss: 0.4512 - val_acc: 0.8717\n",
      "Epoch 40/40\n",
      "14984/14984 [==============================] - 2s - loss: 0.2930 - acc: 0.9250 - val_loss: 0.4328 - val_acc: 0.8802\n"
     ]
    }
   ],
   "source": [
    "fit_history_b = model_b.fit(x_train, y_train,\n",
    "                    batch_size=128, nb_epoch=40, verbose=1,\n",
    "                    validation_data=(x_valid, y_valid))"
   ]
  },
  {
   "cell_type": "code",
   "execution_count": 16,
   "metadata": {
    "collapsed": false
   },
   "outputs": [
    {
     "data": {
      "text/html": [
       "<div class=\"vega-embed\" id=\"7eaa3fca-531c-40f4-abc0-f9238697f7b4\"></div>\n",
       "\n",
       "<style>\n",
       ".vega-embed svg, .vega-embed canvas {\n",
       "  border: 1px dotted gray;\n",
       "}\n",
       "\n",
       ".vega-embed .vega-actions a {\n",
       "  margin-right: 6px;\n",
       "}\n",
       "</style>\n"
      ]
     },
     "metadata": {
      "jupyter-vega": "#7eaa3fca-531c-40f4-abc0-f9238697f7b4"
     },
     "output_type": "display_data"
    },
    {
     "data": {
      "application/javascript": [
       "var spec = {\"encoding\": {\"y\": {\"type\": \"quantitative\", \"field\": \"value\"}, \"color\": {\"type\": \"nominal\", \"field\": \"metric\"}, \"x\": {\"type\": \"ordinal\", \"field\": \"epoch\"}}, \"mark\": \"line\", \"config\": {\"cell\": {\"height\": 350, \"width\": 500}}, \"data\": {\"values\": [{\"value\": 0.7882352946276333, \"epoch\": 0, \"metric\": \"val_acc\"}, {\"value\": 0.8577540099302078, \"epoch\": 1, \"metric\": \"val_acc\"}, {\"value\": 0.8695187158125607, \"epoch\": 2, \"metric\": \"val_acc\"}, {\"value\": 0.8850267384141525, \"epoch\": 3, \"metric\": \"val_acc\"}, {\"value\": 0.8711229938236787, \"epoch\": 4, \"metric\": \"val_acc\"}, {\"value\": 0.8871657745723418, \"epoch\": 5, \"metric\": \"val_acc\"}, {\"value\": 0.8775401061231439, \"epoch\": 6, \"metric\": \"val_acc\"}, {\"value\": 0.885026737202935, \"epoch\": 7, \"metric\": \"val_acc\"}, {\"value\": 0.8860962558557643, \"epoch\": 8, \"metric\": \"val_acc\"}, {\"value\": 0.8770053467648552, \"epoch\": 9, \"metric\": \"val_acc\"}, {\"value\": 0.8957219241774655, \"epoch\": 10, \"metric\": \"val_acc\"}, {\"value\": 0.8978609616743689, \"epoch\": 11, \"metric\": \"val_acc\"}, {\"value\": 0.8540106956334037, \"epoch\": 12, \"metric\": \"val_acc\"}, {\"value\": 0.8796791434925507, \"epoch\": 13, \"metric\": \"val_acc\"}, {\"value\": 0.889839572575003, \"epoch\": 14, \"metric\": \"val_acc\"}, {\"value\": 0.8684491983072006, \"epoch\": 15, \"metric\": \"val_acc\"}, {\"value\": 0.8893048120054969, \"epoch\": 16, \"metric\": \"val_acc\"}, {\"value\": 0.8866310164252704, \"epoch\": 17, \"metric\": \"val_acc\"}, {\"value\": 0.8636363640188534, \"epoch\": 18, \"metric\": \"val_acc\"}, {\"value\": 0.8973262023160802, \"epoch\": 19, \"metric\": \"val_acc\"}, {\"value\": 0.8882352945638851, \"epoch\": 20, \"metric\": \"val_acc\"}, {\"value\": 0.9032085564684741, \"epoch\": 21, \"metric\": \"val_acc\"}, {\"value\": 0.8951871648829252, \"epoch\": 22, \"metric\": \"val_acc\"}, {\"value\": 0.8871657745723418, \"epoch\": 23, \"metric\": \"val_acc\"}, {\"value\": 0.8946524056521329, \"epoch\": 24, \"metric\": \"val_acc\"}, {\"value\": 0.8882352944363885, \"epoch\": 25, \"metric\": \"val_acc\"}, {\"value\": 0.8989304817296604, \"epoch\": 26, \"metric\": \"val_acc\"}, {\"value\": 0.8791443854729759, \"epoch\": 27, \"metric\": \"val_acc\"}, {\"value\": 0.9021390378156448, \"epoch\": 28, \"metric\": \"val_acc\"}, {\"value\": 0.8866310152140531, \"epoch\": 29, \"metric\": \"val_acc\"}, {\"value\": 0.9069518720402437, \"epoch\": 30, \"metric\": \"val_acc\"}, {\"value\": 0.9042780752487999, \"epoch\": 31, \"metric\": \"val_acc\"}, {\"value\": 0.9032085552572566, \"epoch\": 32, \"metric\": \"val_acc\"}, {\"value\": 0.9005347597407785, \"epoch\": 33, \"metric\": \"val_acc\"}, {\"value\": 0.8898395713000374, \"epoch\": 34, \"metric\": \"val_acc\"}, {\"value\": 0.8989304816659122, \"epoch\": 35, \"metric\": \"val_acc\"}, {\"value\": 0.899999999107524, \"epoch\": 36, \"metric\": \"val_acc\"}, {\"value\": 0.8973262035910459, \"epoch\": 37, \"metric\": \"val_acc\"}, {\"value\": 0.8716577543931849, \"epoch\": 38, \"metric\": \"val_acc\"}, {\"value\": 0.8802139040620569, \"epoch\": 39, \"metric\": \"val_acc\"}, {\"value\": 0.7707554725040042, \"epoch\": 0, \"metric\": \"acc\"}, {\"value\": 0.8628537106246663, \"epoch\": 1, \"metric\": \"acc\"}, {\"value\": 0.8780032034169781, \"epoch\": 2, \"metric\": \"acc\"}, {\"value\": 0.8858115323011212, \"epoch\": 3, \"metric\": \"acc\"}, {\"value\": 0.888681260010678, \"epoch\": 4, \"metric\": \"acc\"}, {\"value\": 0.8888814735718099, \"epoch\": 5, \"metric\": \"acc\"}, {\"value\": 0.8982247730912973, \"epoch\": 6, \"metric\": \"acc\"}, {\"value\": 0.8996930058729311, \"epoch\": 7, \"metric\": \"acc\"}, {\"value\": 0.9040977042178323, \"epoch\": 8, \"metric\": \"acc\"}, {\"value\": 0.9039642285104111, \"epoch\": 9, \"metric\": \"acc\"}, {\"value\": 0.9066337426588361, \"epoch\": 10, \"metric\": \"acc\"}, {\"value\": 0.9095702082221035, \"epoch\": 11, \"metric\": \"acc\"}, {\"value\": 0.9099706353443673, \"epoch\": 12, \"metric\": \"acc\"}, {\"value\": 0.9107714895888949, \"epoch\": 13, \"metric\": \"acc\"}, {\"value\": 0.9123064602242392, \"epoch\": 14, \"metric\": \"acc\"}, {\"value\": 0.912706887346503, \"epoch\": 15, \"metric\": \"acc\"}, {\"value\": 0.9129071009076348, \"epoch\": 16, \"metric\": \"acc\"}, {\"value\": 0.9150427122263748, \"epoch\": 17, \"metric\": \"acc\"}, {\"value\": 0.914642285104111, \"epoch\": 18, \"metric\": \"acc\"}, {\"value\": 0.9161105178857448, \"epoch\": 19, \"metric\": \"acc\"}, {\"value\": 0.9169113721302723, \"epoch\": 20, \"metric\": \"acc\"}, {\"value\": 0.9155766150560598, \"epoch\": 21, \"metric\": \"acc\"}, {\"value\": 0.9176454885210892, \"epoch\": 22, \"metric\": \"acc\"}, {\"value\": 0.9187800320341698, \"epoch\": 23, \"metric\": \"acc\"}, {\"value\": 0.9169113721302723, \"epoch\": 24, \"metric\": \"acc\"}, {\"value\": 0.9189135077415911, \"epoch\": 25, \"metric\": \"acc\"}, {\"value\": 0.9199145755472504, \"epoch\": 26, \"metric\": \"acc\"}, {\"value\": 0.9203817405232247, \"epoch\": 27, \"metric\": \"acc\"}, {\"value\": 0.9182461292044848, \"epoch\": 28, \"metric\": \"acc\"}, {\"value\": 0.919447410571276, \"epoch\": 29, \"metric\": \"acc\"}, {\"value\": 0.9208489054991992, \"epoch\": 30, \"metric\": \"acc\"}, {\"value\": 0.921049119060331, \"epoch\": 31, \"metric\": \"acc\"}, {\"value\": 0.9231179925253604, \"epoch\": 32, \"metric\": \"acc\"}, {\"value\": 0.9237853710624666, \"epoch\": 33, \"metric\": \"acc\"}, {\"value\": 0.9223838761345435, \"epoch\": 34, \"metric\": \"acc\"}, {\"value\": 0.9236518953550453, \"epoch\": 35, \"metric\": \"acc\"}, {\"value\": 0.9257207688200747, \"epoch\": 36, \"metric\": \"acc\"}, {\"value\": 0.9254538174052322, \"epoch\": 37, \"metric\": \"acc\"}, {\"value\": 0.9257207688200747, \"epoch\": 38, \"metric\": \"acc\"}, {\"value\": 0.9249866524292579, \"epoch\": 39, \"metric\": \"acc\"}]}};\n",
       "var selector = \"#7eaa3fca-531c-40f4-abc0-f9238697f7b4\";\n",
       "var type = \"vega-lite\";\n",
       "\n",
       "var output_area = this;\n",
       "require(['nbextensions/jupyter-vega/index'], function(vega) {\n",
       "  vega.render(selector, spec, type, output_area);\n",
       "}, function (err) {\n",
       "  if (err.requireType !== 'scripterror') {\n",
       "    throw(err);\n",
       "  }\n",
       "});\n"
      ]
     },
     "metadata": {
      "jupyter-vega": "#7eaa3fca-531c-40f4-abc0-f9238697f7b4"
     },
     "output_type": "display_data"
    },
    {
     "data": {
      "image/png": "[encoded data removed]"
     },
     "metadata": {
      "jupyter-vega": "#7eaa3fca-531c-40f4-abc0-f9238697f7b4"
     },
     "output_type": "display_data"
    }
   ],
   "source": [
    "chart_acc(fit_history_b)"
   ]
  },
  {
   "cell_type": "code",
   "execution_count": 18,
   "metadata": {
    "collapsed": false
   },
   "outputs": [
    {
     "name": "stdout",
     "output_type": "stream",
     "text": [
      "1870/1870 [==============================] - 0s     \n",
      "Test score: 0.446457915191\n",
      "Test accuracy: 0.882887700662\n"
     ]
    }
   ],
   "source": [
    "score = model_b.evaluate(x_test, y_test, verbose=1)\n",
    "print('Test score:', score[0])\n",
    "print('Test accuracy:', score[1])"
   ]
  },
  {
   "cell_type": "markdown",
   "metadata": {},
   "source": [
    "---\n",
    "# Model C (one convolutional layer)"
   ]
  },
  {
   "cell_type": "code",
   "execution_count": 19,
   "metadata": {
    "collapsed": false
   },
   "outputs": [],
   "source": [
    "from keras.layers.convolutional import Convolution2D\n",
    "\n",
    "model_c = Sequential([\n",
    "        Convolution2D(32, 5, 5, activation='relu', border_mode='valid', subsample=(2, 2), input_shape=(1, 28, 28)),\n",
    "        Flatten(),\n",
    "        Dense(1024, activation='tanh'),\n",
    "        Dense(10, activation='softmax')])\n",
    "\n",
    "model_c.compile(loss='categorical_crossentropy',\n",
    "              optimizer='sgd',\n",
    "              metrics=['accuracy'])"
   ]
  },
  {
   "cell_type": "code",
   "execution_count": 20,
   "metadata": {
    "collapsed": false
   },
   "outputs": [
    {
     "name": "stdout",
     "output_type": "stream",
     "text": [
      "____________________________________________________________________________________________________\n",
      "Layer (type)                     Output Shape          Param #     Connected to                     \n",
      "====================================================================================================\n",
      "convolution2d_1 (Convolution2D)  (None, 32, 12, 12)    832         convolution2d_input_1[0][0]      \n",
      "____________________________________________________________________________________________________\n",
      "flatten_3 (Flatten)              (None, 4608)          0           convolution2d_1[0][0]            \n",
      "____________________________________________________________________________________________________\n",
      "dense_4 (Dense)                  (None, 1024)          4719616     flatten_3[0][0]                  \n",
      "____________________________________________________________________________________________________\n",
      "dense_5 (Dense)                  (None, 10)            10250       dense_4[0][0]                    \n",
      "====================================================================================================\n",
      "Total params: 4730698\n",
      "____________________________________________________________________________________________________\n"
     ]
    }
   ],
   "source": [
    "model_c.summary()"
   ]
  },
  {
   "cell_type": "code",
   "execution_count": 21,
   "metadata": {
    "collapsed": false
   },
   "outputs": [
    {
     "name": "stdout",
     "output_type": "stream",
     "text": [
      "Train on 14984 samples, validate on 1870 samples\n",
      "Epoch 1/40\n",
      "14984/14984 [==============================] - 21s - loss: 0.9062 - acc: 0.7467 - val_loss: 0.8817 - val_acc: 0.7214\n",
      "Epoch 2/40\n",
      "14984/14984 [==============================] - 22s - loss: 0.6291 - acc: 0.8380 - val_loss: 0.6144 - val_acc: 0.8471\n",
      "Epoch 3/40\n",
      "14984/14984 [==============================] - 23s - loss: 0.5364 - acc: 0.8639 - val_loss: 0.6161 - val_acc: 0.8112\n",
      "Epoch 4/40\n",
      "14984/14984 [==============================] - 23s - loss: 0.4851 - acc: 0.8757 - val_loss: 0.6468 - val_acc: 0.7947\n",
      "Epoch 5/40\n",
      "14984/14984 [==============================] - 23s - loss: 0.4408 - acc: 0.8832 - val_loss: 0.4321 - val_acc: 0.8850\n",
      "Epoch 6/40\n",
      "14984/14984 [==============================] - 23s - loss: 0.3852 - acc: 0.8945 - val_loss: 0.4365 - val_acc: 0.8765\n",
      "Epoch 7/40\n",
      "14984/14984 [==============================] - 22s - loss: 0.3607 - acc: 0.8994 - val_loss: 0.3750 - val_acc: 0.9005\n",
      "Epoch 8/40\n",
      "14984/14984 [==============================] - 22s - loss: 0.3203 - acc: 0.9104 - val_loss: 0.4727 - val_acc: 0.8759\n",
      "Epoch 9/40\n",
      "14984/14984 [==============================] - 22s - loss: 0.3026 - acc: 0.9148 - val_loss: 0.3554 - val_acc: 0.8968\n",
      "Epoch 10/40\n",
      "14984/14984 [==============================] - 22s - loss: 0.2690 - acc: 0.9234 - val_loss: 0.3648 - val_acc: 0.9011\n",
      "Epoch 11/40\n",
      "14984/14984 [==============================] - 23s - loss: 0.2545 - acc: 0.9289 - val_loss: 0.3407 - val_acc: 0.9075\n",
      "Epoch 12/40\n",
      "14984/14984 [==============================] - 22s - loss: 0.2373 - acc: 0.9349 - val_loss: 0.2973 - val_acc: 0.9193\n",
      "Epoch 13/40\n",
      "14984/14984 [==============================] - 23s - loss: 0.2099 - acc: 0.9433 - val_loss: 0.3139 - val_acc: 0.9118\n",
      "Epoch 14/40\n",
      "14984/14984 [==============================] - 23s - loss: 0.1934 - acc: 0.9485 - val_loss: 0.2961 - val_acc: 0.9251\n",
      "Epoch 15/40\n",
      "14984/14984 [==============================] - 22s - loss: 0.1795 - acc: 0.9525 - val_loss: 0.2963 - val_acc: 0.9187\n",
      "Epoch 16/40\n",
      "14984/14984 [==============================] - 22s - loss: 0.1614 - acc: 0.9586 - val_loss: 0.3679 - val_acc: 0.9043\n",
      "Epoch 17/40\n",
      "14984/14984 [==============================] - 22s - loss: 0.1725 - acc: 0.9541 - val_loss: 0.2918 - val_acc: 0.9225\n",
      "Epoch 18/40\n",
      "14984/14984 [==============================] - 22s - loss: 0.1454 - acc: 0.9635 - val_loss: 0.2818 - val_acc: 0.9251\n",
      "Epoch 19/40\n",
      "14984/14984 [==============================] - 23s - loss: 0.1287 - acc: 0.9701 - val_loss: 0.2793 - val_acc: 0.9257\n",
      "Epoch 20/40\n",
      "14984/14984 [==============================] - 22s - loss: 0.1145 - acc: 0.9742 - val_loss: 0.2699 - val_acc: 0.9257\n",
      "Epoch 21/40\n",
      "14984/14984 [==============================] - 22s - loss: 0.1080 - acc: 0.9752 - val_loss: 0.2731 - val_acc: 0.9283\n",
      "Epoch 22/40\n",
      "14984/14984 [==============================] - 22s - loss: 0.0967 - acc: 0.9785 - val_loss: 0.2716 - val_acc: 0.9273\n",
      "Epoch 23/40\n",
      "14984/14984 [==============================] - 22s - loss: 0.0858 - acc: 0.9820 - val_loss: 0.2811 - val_acc: 0.9267\n",
      "Epoch 24/40\n",
      "14984/14984 [==============================] - 22s - loss: 0.0807 - acc: 0.9830 - val_loss: 0.2976 - val_acc: 0.9198\n",
      "Epoch 25/40\n",
      "14984/14984 [==============================] - 22s - loss: 0.0801 - acc: 0.9830 - val_loss: 0.2642 - val_acc: 0.9305\n",
      "Epoch 26/40\n",
      "14984/14984 [==============================] - 22s - loss: 0.0673 - acc: 0.9876 - val_loss: 0.3397 - val_acc: 0.8925\n",
      "Epoch 27/40\n",
      "14984/14984 [==============================] - 22s - loss: 0.0642 - acc: 0.9891 - val_loss: 0.2585 - val_acc: 0.9305\n",
      "Epoch 28/40\n",
      "14984/14984 [==============================] - 22s - loss: 0.0564 - acc: 0.9908 - val_loss: 0.2622 - val_acc: 0.9246\n",
      "Epoch 29/40\n",
      "14984/14984 [==============================] - 22s - loss: 0.0506 - acc: 0.9922 - val_loss: 0.2579 - val_acc: 0.9305\n",
      "Epoch 30/40\n",
      "14984/14984 [==============================] - 23s - loss: 0.0454 - acc: 0.9937 - val_loss: 0.2583 - val_acc: 0.9316\n",
      "Epoch 31/40\n",
      "14984/14984 [==============================] - 22s - loss: 0.0409 - acc: 0.9945 - val_loss: 0.2656 - val_acc: 0.9299\n",
      "Epoch 32/40\n",
      "14984/14984 [==============================] - 23s - loss: 0.0402 - acc: 0.9950 - val_loss: 0.2612 - val_acc: 0.9310\n",
      "Epoch 33/40\n",
      "14984/14984 [==============================] - 22s - loss: 0.0343 - acc: 0.9957 - val_loss: 0.2560 - val_acc: 0.9332\n",
      "Epoch 34/40\n",
      "14984/14984 [==============================] - 22s - loss: 0.0314 - acc: 0.9963 - val_loss: 0.2579 - val_acc: 0.9310\n",
      "Epoch 35/40\n",
      "14984/14984 [==============================] - 22s - loss: 0.0290 - acc: 0.9965 - val_loss: 0.2547 - val_acc: 0.9305\n",
      "Epoch 36/40\n",
      "14984/14984 [==============================] - 22s - loss: 0.0267 - acc: 0.9969 - val_loss: 0.2524 - val_acc: 0.9342\n",
      "Epoch 37/40\n",
      "14984/14984 [==============================] - 22s - loss: 0.0241 - acc: 0.9973 - val_loss: 0.2508 - val_acc: 0.9348\n",
      "Epoch 38/40\n",
      "14984/14984 [==============================] - 22s - loss: 0.0228 - acc: 0.9977 - val_loss: 0.2547 - val_acc: 0.9348\n",
      "Epoch 39/40\n",
      "14984/14984 [==============================] - 22s - loss: 0.0215 - acc: 0.9977 - val_loss: 0.2556 - val_acc: 0.9348\n",
      "Epoch 40/40\n",
      "14984/14984 [==============================] - 23s - loss: 0.0199 - acc: 0.9980 - val_loss: 0.2572 - val_acc: 0.9321\n"
     ]
    }
   ],
   "source": [
    "fit_history_c = model_c.fit(x_train.reshape(train_len, 1, 28, 28), y_train,\n",
    "                    batch_size=128, nb_epoch=40, verbose=1,\n",
    "                    validation_data=(x_valid.reshape(valid_len, 1, 28, 28), y_valid))"
   ]
  },
  {
   "cell_type": "code",
   "execution_count": 22,
   "metadata": {
    "collapsed": false
   },
   "outputs": [
    {
     "data": {
      "text/html": [
       "<div class=\"vega-embed\" id=\"e06b1466-5557-4195-b312-eeaf1f89aff6\"></div>\n",
       "\n",
       "<style>\n",
       ".vega-embed svg, .vega-embed canvas {\n",
       "  border: 1px dotted gray;\n",
       "}\n",
       "\n",
       ".vega-embed .vega-actions a {\n",
       "  margin-right: 6px;\n",
       "}\n",
       "</style>\n"
      ]
     },
     "metadata": {
      "jupyter-vega": "#e06b1466-5557-4195-b312-eeaf1f89aff6"
     },
     "output_type": "display_data"
    },
    {
     "data": {
      "application/javascript": [
       "var spec = {\"encoding\": {\"y\": {\"type\": \"quantitative\", \"field\": \"value\"}, \"color\": {\"type\": \"nominal\", \"field\": \"metric\"}, \"x\": {\"type\": \"ordinal\", \"field\": \"epoch\"}}, \"mark\": \"line\", \"config\": {\"cell\": {\"height\": 350, \"width\": 500}}, \"data\": {\"values\": [{\"value\": 0.7213903749052853, \"epoch\": 0, \"metric\": \"val_acc\"}, {\"value\": 0.8470588228281807, \"epoch\": 1, \"metric\": \"val_acc\"}, {\"value\": 0.8112299458865814, \"epoch\": 2, \"metric\": \"val_acc\"}, {\"value\": 0.7946524069908468, \"epoch\": 3, \"metric\": \"val_acc\"}, {\"value\": 0.885026737202935, \"epoch\": 4, \"metric\": \"val_acc\"}, {\"value\": 0.876470587534063, \"epoch\": 5, \"metric\": \"val_acc\"}, {\"value\": 0.9005347584658128, \"epoch\": 6, \"metric\": \"val_acc\"}, {\"value\": 0.8759358280482776, \"epoch\": 7, \"metric\": \"val_acc\"}, {\"value\": 0.8967914430215397, \"epoch\": 8, \"metric\": \"val_acc\"}, {\"value\": 0.9010695190990672, \"epoch\": 9, \"metric\": \"val_acc\"}, {\"value\": 0.9074866300598186, \"epoch\": 10, \"metric\": \"val_acc\"}, {\"value\": 0.9192513371533888, \"epoch\": 11, \"metric\": \"val_acc\"}, {\"value\": 0.9117647049898769, \"epoch\": 12, \"metric\": \"val_acc\"}, {\"value\": 0.9251336888833479, \"epoch\": 13, \"metric\": \"val_acc\"}, {\"value\": 0.9187165779225966, \"epoch\": 14, \"metric\": \"val_acc\"}, {\"value\": 0.9042780739738342, \"epoch\": 15, \"metric\": \"val_acc\"}, {\"value\": 0.9224598933668697, \"epoch\": 16, \"metric\": \"val_acc\"}, {\"value\": 0.9251336888833479, \"epoch\": 17, \"metric\": \"val_acc\"}, {\"value\": 0.9256684482416367, \"epoch\": 18, \"metric\": \"val_acc\"}, {\"value\": 0.9256684482416367, \"epoch\": 19, \"metric\": \"val_acc\"}, {\"value\": 0.9283422463080462, \"epoch\": 20, \"metric\": \"val_acc\"}, {\"value\": 0.9272727263802513, \"epoch\": 21, \"metric\": \"val_acc\"}, {\"value\": 0.9267379670219625, \"epoch\": 22, \"metric\": \"val_acc\"}, {\"value\": 0.9197860953642085, \"epoch\": 23, \"metric\": \"val_acc\"}, {\"value\": 0.930481282529984, \"epoch\": 24, \"metric\": \"val_acc\"}, {\"value\": 0.8925133680914813, \"epoch\": 25, \"metric\": \"val_acc\"}, {\"value\": 0.9304812837412013, \"epoch\": 26, \"metric\": \"val_acc\"}, {\"value\": 0.9245989308000249, \"epoch\": 27, \"metric\": \"val_acc\"}, {\"value\": 0.9304812837412013, \"epoch\": 28, \"metric\": \"val_acc\"}, {\"value\": 0.9315508024577789, \"epoch\": 29, \"metric\": \"val_acc\"}, {\"value\": 0.9299465231079469, \"epoch\": 30, \"metric\": \"val_acc\"}, {\"value\": 0.93101604309949, \"epoch\": 31, \"metric\": \"val_acc\"}, {\"value\": 0.9331550805326452, \"epoch\": 32, \"metric\": \"val_acc\"}, {\"value\": 0.9310160418882727, \"epoch\": 33, \"metric\": \"val_acc\"}, {\"value\": 0.9304812837412013, \"epoch\": 34, \"metric\": \"val_acc\"}, {\"value\": 0.9342245992492227, \"epoch\": 35, \"metric\": \"val_acc\"}, {\"value\": 0.9347593586075115, \"epoch\": 36, \"metric\": \"val_acc\"}, {\"value\": 0.9347593573962941, \"epoch\": 37, \"metric\": \"val_acc\"}, {\"value\": 0.9347593586075115, \"epoch\": 38, \"metric\": \"val_acc\"}, {\"value\": 0.9320855618160676, \"epoch\": 39, \"metric\": \"val_acc\"}, {\"value\": 0.7466631073144687, \"epoch\": 0, \"metric\": \"acc\"}, {\"value\": 0.8379604911906033, \"epoch\": 1, \"metric\": \"acc\"}, {\"value\": 0.8639215162840364, \"epoch\": 2, \"metric\": \"acc\"}, {\"value\": 0.8757341163908169, \"epoch\": 3, \"metric\": \"acc\"}, {\"value\": 0.8832087560064068, \"epoch\": 4, \"metric\": \"acc\"}, {\"value\": 0.8944874532835024, \"epoch\": 5, \"metric\": \"acc\"}, {\"value\": 0.8994260544580887, \"epoch\": 6, \"metric\": \"acc\"}, {\"value\": 0.9104378003203417, \"epoch\": 7, \"metric\": \"acc\"}, {\"value\": 0.9148424986652429, \"epoch\": 8, \"metric\": \"acc\"}, {\"value\": 0.9233849439402029, \"epoch\": 9, \"metric\": \"acc\"}, {\"value\": 0.9288574479444741, \"epoch\": 10, \"metric\": \"acc\"}, {\"value\": 0.934930592632141, \"epoch\": 11, \"metric\": \"acc\"}, {\"value\": 0.9433395621996796, \"epoch\": 12, \"metric\": \"acc\"}, {\"value\": 0.9484783769353977, \"epoch\": 13, \"metric\": \"acc\"}, {\"value\": 0.9525493860117459, \"epoch\": 14, \"metric\": \"acc\"}, {\"value\": 0.9585557928457021, \"epoch\": 15, \"metric\": \"acc\"}, {\"value\": 0.9540843566470902, \"epoch\": 16, \"metric\": \"acc\"}, {\"value\": 0.9634943940202884, \"epoch\": 17, \"metric\": \"acc\"}, {\"value\": 0.9701014415376401, \"epoch\": 18, \"metric\": \"acc\"}, {\"value\": 0.9741724506139883, \"epoch\": 19, \"metric\": \"acc\"}, {\"value\": 0.9752402562733582, \"epoch\": 20, \"metric\": \"acc\"}, {\"value\": 0.9785104111051789, \"epoch\": 21, \"metric\": \"acc\"}, {\"value\": 0.9820475173518419, \"epoch\": 22, \"metric\": \"acc\"}, {\"value\": 0.9829818473037907, \"epoch\": 23, \"metric\": \"acc\"}, {\"value\": 0.9829818473037907, \"epoch\": 24, \"metric\": \"acc\"}, {\"value\": 0.9875867592098239, \"epoch\": 25, \"metric\": \"acc\"}, {\"value\": 0.9891217298451682, \"epoch\": 26, \"metric\": \"acc\"}, {\"value\": 0.9907901761879337, \"epoch\": 27, \"metric\": \"acc\"}, {\"value\": 0.9921916711158569, \"epoch\": 28, \"metric\": \"acc\"}, {\"value\": 0.9936599038974907, \"epoch\": 29, \"metric\": \"acc\"}, {\"value\": 0.9945274959957288, \"epoch\": 30, \"metric\": \"acc\"}, {\"value\": 0.9949946609717032, \"epoch\": 31, \"metric\": \"acc\"}, {\"value\": 0.9956620395088094, \"epoch\": 32, \"metric\": \"acc\"}, {\"value\": 0.996262680192205, \"epoch\": 33, \"metric\": \"acc\"}, {\"value\": 0.9965296316070476, \"epoch\": 34, \"metric\": \"acc\"}, {\"value\": 0.9969300587293113, \"epoch\": 35, \"metric\": \"acc\"}, {\"value\": 0.997330485851575, \"epoch\": 36, \"metric\": \"acc\"}, {\"value\": 0.9976641751201282, \"epoch\": 37, \"metric\": \"acc\"}, {\"value\": 0.9976641751201282, \"epoch\": 38, \"metric\": \"acc\"}, {\"value\": 0.9979978643886812, \"epoch\": 39, \"metric\": \"acc\"}]}};\n",
       "var selector = \"#e06b1466-5557-4195-b312-eeaf1f89aff6\";\n",
       "var type = \"vega-lite\";\n",
       "\n",
       "var output_area = this;\n",
       "require(['nbextensions/jupyter-vega/index'], function(vega) {\n",
       "  vega.render(selector, spec, type, output_area);\n",
       "}, function (err) {\n",
       "  if (err.requireType !== 'scripterror') {\n",
       "    throw(err);\n",
       "  }\n",
       "});\n"
      ]
     },
     "metadata": {
      "jupyter-vega": "#e06b1466-5557-4195-b312-eeaf1f89aff6"
     },
     "output_type": "display_data"
    },
    {
     "data": {
      "image/png": "[encoded data removed]"
     },
     "metadata": {
      "jupyter-vega": "#e06b1466-5557-4195-b312-eeaf1f89aff6"
     },
     "output_type": "display_data"
    }
   ],
   "source": [
    "chart_acc(fit_history_c)"
   ]
  },
  {
   "cell_type": "code",
   "execution_count": 23,
   "metadata": {
    "collapsed": false
   },
   "outputs": [
    {
     "name": "stdout",
     "output_type": "stream",
     "text": [
      "1870/1870 [==============================] - 1s     \n",
      "Test score: 0.27088951239\n",
      "Test accuracy: 0.922459892857\n"
     ]
    }
   ],
   "source": [
    "score = model_c.evaluate(x_test.reshape(test_len, 1, 28, 28), y_test, verbose=1)\n",
    "print('Test score:', score[0])\n",
    "print('Test accuracy:', score[1])"
   ]
  },
  {
   "cell_type": "markdown",
   "metadata": {},
   "source": [
    "---\n",
    "# Model D (one convolutional layer with maxpooling layer)"
   ]
  },
  {
   "cell_type": "code",
   "execution_count": 24,
   "metadata": {
    "collapsed": true
   },
   "outputs": [],
   "source": [
    "from keras.layers.pooling import MaxPooling2D\n",
    "\n",
    "model_d = Sequential([\n",
    "        Convolution2D(32, 5, 5, activation='relu', border_mode='valid', subsample=(2, 2), input_shape=(1, 28, 28)),\n",
    "        MaxPooling2D(strides=(1, 1)),\n",
    "        Flatten(),\n",
    "        Dense(1024, activation='tanh'),\n",
    "        Dense(10, activation='softmax')])\n",
    "\n",
    "model_d.compile(loss='categorical_crossentropy',\n",
    "              optimizer='sgd',\n",
    "              metrics=['accuracy'])"
   ]
  },
  {
   "cell_type": "code",
   "execution_count": 25,
   "metadata": {
    "collapsed": false
   },
   "outputs": [
    {
     "name": "stdout",
     "output_type": "stream",
     "text": [
      "____________________________________________________________________________________________________\n",
      "Layer (type)                     Output Shape          Param #     Connected to                     \n",
      "====================================================================================================\n",
      "convolution2d_2 (Convolution2D)  (None, 32, 12, 12)    832         convolution2d_input_2[0][0]      \n",
      "____________________________________________________________________________________________________\n",
      "maxpooling2d_1 (MaxPooling2D)    (None, 32, 11, 11)    0           convolution2d_2[0][0]            \n",
      "____________________________________________________________________________________________________\n",
      "flatten_4 (Flatten)              (None, 3872)          0           maxpooling2d_1[0][0]             \n",
      "____________________________________________________________________________________________________\n",
      "dense_6 (Dense)                  (None, 1024)          3965952     flatten_4[0][0]                  \n",
      "____________________________________________________________________________________________________\n",
      "dense_7 (Dense)                  (None, 10)            10250       dense_6[0][0]                    \n",
      "====================================================================================================\n",
      "Total params: 3977034\n",
      "____________________________________________________________________________________________________\n"
     ]
    }
   ],
   "source": [
    "model_d.summary()"
   ]
  },
  {
   "cell_type": "code",
   "execution_count": 26,
   "metadata": {
    "collapsed": false
   },
   "outputs": [
    {
     "name": "stdout",
     "output_type": "stream",
     "text": [
      "Train on 14984 samples, validate on 1870 samples\n",
      "Epoch 1/40\n",
      "14984/14984 [==============================] - 23s - loss: 1.1739 - acc: 0.6568 - val_loss: 1.0667 - val_acc: 0.6540\n",
      "Epoch 2/40\n",
      "14984/14984 [==============================] - 23s - loss: 0.9345 - acc: 0.7479 - val_loss: 1.0437 - val_acc: 0.6385\n",
      "Epoch 3/40\n",
      "14984/14984 [==============================] - 23s - loss: 0.8133 - acc: 0.7894 - val_loss: 0.9874 - val_acc: 0.6690\n",
      "Epoch 4/40\n",
      "14984/14984 [==============================] - 23s - loss: 0.7048 - acc: 0.8292 - val_loss: 0.7243 - val_acc: 0.7818\n",
      "Epoch 5/40\n",
      "14984/14984 [==============================] - 23s - loss: 0.5724 - acc: 0.8565 - val_loss: 0.6948 - val_acc: 0.7636\n",
      "Epoch 6/40\n",
      "14984/14984 [==============================] - 23s - loss: 0.4762 - acc: 0.8709 - val_loss: 0.5391 - val_acc: 0.8524\n",
      "Epoch 7/40\n",
      "14984/14984 [==============================] - 23s - loss: 0.4284 - acc: 0.8836 - val_loss: 0.4745 - val_acc: 0.8556\n",
      "Epoch 8/40\n",
      "14984/14984 [==============================] - 23s - loss: 0.3844 - acc: 0.8924 - val_loss: 0.4631 - val_acc: 0.8642\n",
      "Epoch 9/40\n",
      "14984/14984 [==============================] - 23s - loss: 0.3629 - acc: 0.8949 - val_loss: 0.3618 - val_acc: 0.8995\n",
      "Epoch 10/40\n",
      "14984/14984 [==============================] - 23s - loss: 0.3339 - acc: 0.9016 - val_loss: 0.3588 - val_acc: 0.8968\n",
      "Epoch 11/40\n",
      "14984/14984 [==============================] - 23s - loss: 0.3214 - acc: 0.9081 - val_loss: 0.3743 - val_acc: 0.8957\n",
      "Epoch 12/40\n",
      "14984/14984 [==============================] - 23s - loss: 0.3036 - acc: 0.9137 - val_loss: 0.3385 - val_acc: 0.9070\n",
      "Epoch 13/40\n",
      "14984/14984 [==============================] - 23s - loss: 0.2872 - acc: 0.9161 - val_loss: 0.3691 - val_acc: 0.8888\n",
      "Epoch 14/40\n",
      "14984/14984 [==============================] - 23s - loss: 0.2697 - acc: 0.9229 - val_loss: 0.3141 - val_acc: 0.9182\n",
      "Epoch 15/40\n",
      "14984/14984 [==============================] - 23s - loss: 0.2628 - acc: 0.9242 - val_loss: 0.3088 - val_acc: 0.9150\n",
      "Epoch 16/40\n",
      "14984/14984 [==============================] - 23s - loss: 0.2528 - acc: 0.9283 - val_loss: 0.2978 - val_acc: 0.9182\n",
      "Epoch 17/40\n",
      "14984/14984 [==============================] - 23s - loss: 0.2432 - acc: 0.9286 - val_loss: 0.2865 - val_acc: 0.9171\n",
      "Epoch 18/40\n",
      "14984/14984 [==============================] - 23s - loss: 0.2331 - acc: 0.9316 - val_loss: 0.2999 - val_acc: 0.9150\n",
      "Epoch 19/40\n",
      "14984/14984 [==============================] - 23s - loss: 0.2269 - acc: 0.9352 - val_loss: 0.2789 - val_acc: 0.9273\n",
      "Epoch 20/40\n",
      "14984/14984 [==============================] - 23s - loss: 0.2187 - acc: 0.9357 - val_loss: 0.3739 - val_acc: 0.8973\n",
      "Epoch 21/40\n",
      "14984/14984 [==============================] - 23s - loss: 0.2184 - acc: 0.9377 - val_loss: 0.2889 - val_acc: 0.9219\n",
      "Epoch 22/40\n",
      "14984/14984 [==============================] - 23s - loss: 0.2130 - acc: 0.9373 - val_loss: 0.2812 - val_acc: 0.9230\n",
      "Epoch 23/40\n",
      "14984/14984 [==============================] - 23s - loss: 0.2051 - acc: 0.9411 - val_loss: 0.2705 - val_acc: 0.9246\n",
      "Epoch 24/40\n",
      "14984/14984 [==============================] - 23s - loss: 0.1903 - acc: 0.9460 - val_loss: 0.2638 - val_acc: 0.9283\n",
      "Epoch 25/40\n",
      "14984/14984 [==============================] - 23s - loss: 0.1904 - acc: 0.9469 - val_loss: 0.2591 - val_acc: 0.9337\n",
      "Epoch 26/40\n",
      "14984/14984 [==============================] - 23s - loss: 0.1778 - acc: 0.9497 - val_loss: 0.2520 - val_acc: 0.9299\n",
      "Epoch 27/40\n",
      "14984/14984 [==============================] - 23s - loss: 0.1667 - acc: 0.9534 - val_loss: 0.2566 - val_acc: 0.9305\n",
      "Epoch 28/40\n",
      "14984/14984 [==============================] - 23s - loss: 0.1626 - acc: 0.9545 - val_loss: 0.2471 - val_acc: 0.9326\n",
      "Epoch 29/40\n",
      "14984/14984 [==============================] - 23s - loss: 0.1563 - acc: 0.9560 - val_loss: 0.2633 - val_acc: 0.9262\n",
      "Epoch 30/40\n",
      "14984/14984 [==============================] - 23s - loss: 0.1555 - acc: 0.9576 - val_loss: 0.2696 - val_acc: 0.9219\n",
      "Epoch 31/40\n",
      "14984/14984 [==============================] - 21s - loss: 0.1504 - acc: 0.9614 - val_loss: 0.2668 - val_acc: 0.9267\n",
      "Epoch 32/40\n",
      "14984/14984 [==============================] - 22s - loss: 0.1431 - acc: 0.9619 - val_loss: 0.2953 - val_acc: 0.9171\n",
      "Epoch 33/40\n",
      "14984/14984 [==============================] - 22s - loss: 0.1408 - acc: 0.9619 - val_loss: 0.2542 - val_acc: 0.9332\n",
      "Epoch 34/40\n",
      "14984/14984 [==============================] - 22s - loss: 0.1302 - acc: 0.9669 - val_loss: 0.2394 - val_acc: 0.9299\n",
      "Epoch 35/40\n",
      "14984/14984 [==============================] - 21s - loss: 0.1231 - acc: 0.9664 - val_loss: 0.2363 - val_acc: 0.9412\n",
      "Epoch 36/40\n",
      "14984/14984 [==============================] - 21s - loss: 0.1204 - acc: 0.9679 - val_loss: 0.2386 - val_acc: 0.9385\n",
      "Epoch 37/40\n",
      "14984/14984 [==============================] - 19s - loss: 0.1109 - acc: 0.9721 - val_loss: 0.2286 - val_acc: 0.9385\n",
      "Epoch 38/40\n",
      "14984/14984 [==============================] - 19s - loss: 0.1054 - acc: 0.9741 - val_loss: 0.2260 - val_acc: 0.9433\n",
      "Epoch 39/40\n",
      "14984/14984 [==============================] - 20s - loss: 0.0976 - acc: 0.9770 - val_loss: 0.2232 - val_acc: 0.9390\n",
      "Epoch 40/40\n",
      "14984/14984 [==============================] - 19s - loss: 0.0927 - acc: 0.9780 - val_loss: 0.2263 - val_acc: 0.9348\n"
     ]
    }
   ],
   "source": [
    "fit_history_d = model_d.fit(x_train.reshape(train_len, 1, 28, 28), y_train,\n",
    "                    batch_size=128, nb_epoch=40, verbose=1,\n",
    "                    validation_data=(x_valid.reshape(valid_len, 1, 28, 28), y_valid))"
   ]
  },
  {
   "cell_type": "code",
   "execution_count": 27,
   "metadata": {
    "collapsed": false
   },
   "outputs": [
    {
     "data": {
      "text/html": [
       "<div class=\"vega-embed\" id=\"28664cef-1500-4ba8-be99-0f559a089d33\"></div>\n",
       "\n",
       "<style>\n",
       ".vega-embed svg, .vega-embed canvas {\n",
       "  border: 1px dotted gray;\n",
       "}\n",
       "\n",
       ".vega-embed .vega-actions a {\n",
       "  margin-right: 6px;\n",
       "}\n",
       "</style>\n"
      ]
     },
     "metadata": {
      "jupyter-vega": "#28664cef-1500-4ba8-be99-0f559a089d33"
     },
     "output_type": "display_data"
    },
    {
     "data": {
      "application/javascript": [
       "var spec = {\"encoding\": {\"y\": {\"type\": \"quantitative\", \"field\": \"value\"}, \"color\": {\"type\": \"nominal\", \"field\": \"metric\"}, \"x\": {\"type\": \"ordinal\", \"field\": \"epoch\"}}, \"mark\": \"line\", \"config\": {\"cell\": {\"height\": 350, \"width\": 500}}, \"data\": {\"values\": [{\"value\": 0.6540106962071383, \"epoch\": 0, \"metric\": \"val_acc\"}, {\"value\": 0.6385026746892674, \"epoch\": 1, \"metric\": \"val_acc\"}, {\"value\": 0.6689839570917547, \"epoch\": 2, \"metric\": \"val_acc\"}, {\"value\": 0.7818181824556647, \"epoch\": 3, \"metric\": \"val_acc\"}, {\"value\": 0.763636363062629, \"epoch\": 4, \"metric\": \"val_acc\"}, {\"value\": 0.8524064164110684, \"epoch\": 5, \"metric\": \"val_acc\"}, {\"value\": 0.855614972560801, \"epoch\": 6, \"metric\": \"val_acc\"}, {\"value\": 0.8641711234408904, \"epoch\": 7, \"metric\": \"val_acc\"}, {\"value\": 0.8994652410242009, \"epoch\": 8, \"metric\": \"val_acc\"}, {\"value\": 0.8967914442965054, \"epoch\": 9, \"metric\": \"val_acc\"}, {\"value\": 0.8957219243049621, \"epoch\": 10, \"metric\": \"val_acc\"}, {\"value\": 0.906951872103992, \"epoch\": 11, \"metric\": \"val_acc\"}, {\"value\": 0.8887700526472081, \"epoch\": 12, \"metric\": \"val_acc\"}, {\"value\": 0.9181818184368113, \"epoch\": 13, \"metric\": \"val_acc\"}, {\"value\": 0.9149732611396096, \"epoch\": 14, \"metric\": \"val_acc\"}, {\"value\": 0.9181818172255939, \"epoch\": 15, \"metric\": \"val_acc\"}, {\"value\": 0.917112299783982, \"epoch\": 16, \"metric\": \"val_acc\"}, {\"value\": 0.914973262350827, \"epoch\": 17, \"metric\": \"val_acc\"}, {\"value\": 0.9272727275277204, \"epoch\": 18, \"metric\": \"val_acc\"}, {\"value\": 0.897326202252332, \"epoch\": 19, \"metric\": \"val_acc\"}, {\"value\": 0.9219251327973637, \"epoch\": 20, \"metric\": \"val_acc\"}, {\"value\": 0.9229946514501929, \"epoch\": 21, \"metric\": \"val_acc\"}, {\"value\": 0.9245989307362765, \"epoch\": 22, \"metric\": \"val_acc\"}, {\"value\": 0.9283422450330806, \"epoch\": 23, \"metric\": \"val_acc\"}, {\"value\": 0.9336898398271857, \"epoch\": 24, \"metric\": \"val_acc\"}, {\"value\": 0.9299465243829126, \"epoch\": 25, \"metric\": \"val_acc\"}, {\"value\": 0.930481283677453, \"epoch\": 26, \"metric\": \"val_acc\"}, {\"value\": 0.9326203211106081, \"epoch\": 27, \"metric\": \"val_acc\"}, {\"value\": 0.9262032088111428, \"epoch\": 28, \"metric\": \"val_acc\"}, {\"value\": 0.9219251327336153, \"epoch\": 29, \"metric\": \"val_acc\"}, {\"value\": 0.9267379669582143, \"epoch\": 30, \"metric\": \"val_acc\"}, {\"value\": 0.9171122985727647, \"epoch\": 31, \"metric\": \"val_acc\"}, {\"value\": 0.9331550804688968, \"epoch\": 32, \"metric\": \"val_acc\"}, {\"value\": 0.9299465243829126, \"epoch\": 33, \"metric\": \"val_acc\"}, {\"value\": 0.9411764696320111, \"epoch\": 34, \"metric\": \"val_acc\"}, {\"value\": 0.9385026741155329, \"epoch\": 35, \"metric\": \"val_acc\"}, {\"value\": 0.9385026728405672, \"epoch\": 36, \"metric\": \"val_acc\"}, {\"value\": 0.9433155083401318, \"epoch\": 37, \"metric\": \"val_acc\"}, {\"value\": 0.9390374321988559, \"epoch\": 38, \"metric\": \"val_acc\"}, {\"value\": 0.9347593573325458, \"epoch\": 39, \"metric\": \"val_acc\"}, {\"value\": 0.6567672183662573, \"epoch\": 0, \"metric\": \"acc\"}, {\"value\": 0.7479311265349706, \"epoch\": 1, \"metric\": \"acc\"}, {\"value\": 0.7894420715429792, \"epoch\": 2, \"metric\": \"acc\"}, {\"value\": 0.8291510945008008, \"epoch\": 3, \"metric\": \"acc\"}, {\"value\": 0.856513614522157, \"epoch\": 4, \"metric\": \"acc\"}, {\"value\": 0.870928990923652, \"epoch\": 5, \"metric\": \"acc\"}, {\"value\": 0.8836091831286705, \"epoch\": 6, \"metric\": \"acc\"}, {\"value\": 0.8924185798184731, \"epoch\": 7, \"metric\": \"acc\"}, {\"value\": 0.8948878804057662, \"epoch\": 8, \"metric\": \"acc\"}, {\"value\": 0.9015616657768286, \"epoch\": 9, \"metric\": \"acc\"}, {\"value\": 0.9081019754404699, \"epoch\": 10, \"metric\": \"acc\"}, {\"value\": 0.9137079551521623, \"epoch\": 11, \"metric\": \"acc\"}, {\"value\": 0.9161105178857448, \"epoch\": 12, \"metric\": \"acc\"}, {\"value\": 0.9229177789642286, \"epoch\": 13, \"metric\": \"acc\"}, {\"value\": 0.9241857981847303, \"epoch\": 14, \"metric\": \"acc\"}, {\"value\": 0.9283235451147891, \"epoch\": 15, \"metric\": \"acc\"}, {\"value\": 0.9285904965296317, \"epoch\": 16, \"metric\": \"acc\"}, {\"value\": 0.9315936999466097, \"epoch\": 17, \"metric\": \"acc\"}, {\"value\": 0.9351975440469834, \"epoch\": 18, \"metric\": \"acc\"}, {\"value\": 0.9357314468766684, \"epoch\": 19, \"metric\": \"acc\"}, {\"value\": 0.9376668446342765, \"epoch\": 20, \"metric\": \"acc\"}, {\"value\": 0.9372664175120128, \"epoch\": 21, \"metric\": \"acc\"}, {\"value\": 0.9410704751735184, \"epoch\": 22, \"metric\": \"acc\"}, {\"value\": 0.9460090763481046, \"epoch\": 23, \"metric\": \"acc\"}, {\"value\": 0.9469434063000534, \"epoch\": 24, \"metric\": \"acc\"}, {\"value\": 0.9497463961558996, \"epoch\": 25, \"metric\": \"acc\"}, {\"value\": 0.9534169781099839, \"epoch\": 26, \"metric\": \"acc\"}, {\"value\": 0.954484783769354, \"epoch\": 27, \"metric\": \"acc\"}, {\"value\": 0.9559530165509877, \"epoch\": 28, \"metric\": \"acc\"}, {\"value\": 0.9576214628937534, \"epoch\": 29, \"metric\": \"acc\"}, {\"value\": 0.961425520555259, \"epoch\": 30, \"metric\": \"acc\"}, {\"value\": 0.9618926855312333, \"epoch\": 31, \"metric\": \"acc\"}, {\"value\": 0.9618926855312333, \"epoch\": 32, \"metric\": \"acc\"}, {\"value\": 0.9668980245595301, \"epoch\": 33, \"metric\": \"acc\"}, {\"value\": 0.9663641217298452, \"epoch\": 34, \"metric\": \"acc\"}, {\"value\": 0.9678990923651896, \"epoch\": 35, \"metric\": \"acc\"}, {\"value\": 0.9721035771489589, \"epoch\": 36, \"metric\": \"acc\"}, {\"value\": 0.9741057127602776, \"epoch\": 37, \"metric\": \"acc\"}, {\"value\": 0.9770421783235451, \"epoch\": 38, \"metric\": \"acc\"}, {\"value\": 0.9780432461292045, \"epoch\": 39, \"metric\": \"acc\"}]}};\n",
       "var selector = \"#28664cef-1500-4ba8-be99-0f559a089d33\";\n",
       "var type = \"vega-lite\";\n",
       "\n",
       "var output_area = this;\n",
       "require(['nbextensions/jupyter-vega/index'], function(vega) {\n",
       "  vega.render(selector, spec, type, output_area);\n",
       "}, function (err) {\n",
       "  if (err.requireType !== 'scripterror') {\n",
       "    throw(err);\n",
       "  }\n",
       "});\n"
      ]
     },
     "metadata": {
      "jupyter-vega": "#28664cef-1500-4ba8-be99-0f559a089d33"
     },
     "output_type": "display_data"
    },
    {
     "data": {
      "image/png": "[encoded data removed]"
     },
     "metadata": {
      "jupyter-vega": "#28664cef-1500-4ba8-be99-0f559a089d33"
     },
     "output_type": "display_data"
    }
   ],
   "source": [
    "chart_acc(fit_history_d)"
   ]
  },
  {
   "cell_type": "code",
   "execution_count": 28,
   "metadata": {
    "collapsed": false
   },
   "outputs": [
    {
     "name": "stdout",
     "output_type": "stream",
     "text": [
      "1870/1870 [==============================] - 1s     \n",
      "Test score: 0.243066693667\n",
      "Test accuracy: 0.929411764706\n"
     ]
    }
   ],
   "source": [
    "score = model_d.evaluate(x_test.reshape(test_len, 1, 28, 28), y_test, verbose=1)\n",
    "print('Test score:', score[0])\n",
    "print('Test accuracy:', score[1])"
   ]
  },
  {
   "cell_type": "markdown",
   "metadata": {},
   "source": [
    "---\n",
    "# Model E (one convolutional layer with maxpooling layer and dropout)"
   ]
  },
  {
   "cell_type": "code",
   "execution_count": 13,
   "metadata": {
    "collapsed": false
   },
   "outputs": [],
   "source": [
    "from keras.layers.core import Dropout\n",
    "\n",
    "model_e = Sequential([\n",
    "    Convolution2D(32, 5, 5, activation='relu', border_mode='valid', subsample=(2, 2), input_shape=(1, 28, 28)),\n",
    "    MaxPooling2D(strides=(1, 1)),\n",
    "    Flatten(),\n",
    "    Dense(1024, activation='tanh'),\n",
    "    Dropout(0.2),\n",
    "    Dense(10, activation='softmax')])\n",
    "\n",
    "model_e.compile(loss='categorical_crossentropy',\n",
    "              optimizer='sgd',\n",
    "              metrics=['accuracy'])"
   ]
  },
  {
   "cell_type": "code",
   "execution_count": 14,
   "metadata": {
    "collapsed": false
   },
   "outputs": [
    {
     "name": "stdout",
     "output_type": "stream",
     "text": [
      "____________________________________________________________________________________________________\n",
      "Layer (type)                     Output Shape          Param #     Connected to                     \n",
      "====================================================================================================\n",
      "convolution2d_2 (Convolution2D)  (None, 32, 12, 12)    832         convolution2d_input_1[0][0]      \n",
      "____________________________________________________________________________________________________\n",
      "maxpooling2d_1 (MaxPooling2D)    (None, 32, 11, 11)    0           convolution2d_2[0][0]            \n",
      "____________________________________________________________________________________________________\n",
      "flatten_1 (Flatten)              (None, 3872)          0           maxpooling2d_1[0][0]             \n",
      "____________________________________________________________________________________________________\n",
      "dense_1 (Dense)                  (None, 1024)          3965952     flatten_1[0][0]                  \n",
      "____________________________________________________________________________________________________\n",
      "dropout_1 (Dropout)              (None, 1024)          0           dense_1[0][0]                    \n",
      "____________________________________________________________________________________________________\n",
      "dense_2 (Dense)                  (None, 10)            10250       dropout_1[0][0]                  \n",
      "====================================================================================================\n",
      "Total params: 3977034\n",
      "____________________________________________________________________________________________________\n"
     ]
    }
   ],
   "source": [
    "model_e.summary()"
   ]
  },
  {
   "cell_type": "code",
   "execution_count": 15,
   "metadata": {
    "collapsed": false
   },
   "outputs": [
    {
     "name": "stdout",
     "output_type": "stream",
     "text": [
      "Train on 14984 samples, validate on 1870 samples\n",
      "Epoch 1/40\n",
      "14984/14984 [==============================] - 22s - loss: 1.4707 - acc: 0.5176 - val_loss: 1.7191 - val_acc: 0.4005\n",
      "Epoch 2/40\n",
      "14984/14984 [==============================] - 23s - loss: 1.1544 - acc: 0.6235 - val_loss: 1.2257 - val_acc: 0.5914\n",
      "Epoch 3/40\n",
      "14984/14984 [==============================] - 23s - loss: 1.0811 - acc: 0.6579 - val_loss: 1.1113 - val_acc: 0.6412\n",
      "Epoch 4/40\n",
      "14984/14984 [==============================] - 23s - loss: 1.0275 - acc: 0.6786 - val_loss: 1.2482 - val_acc: 0.5241\n",
      "Epoch 5/40\n",
      "14984/14984 [==============================] - 23s - loss: 0.9598 - acc: 0.7078 - val_loss: 0.9677 - val_acc: 0.7096\n",
      "Epoch 6/40\n",
      "14984/14984 [==============================] - 23s - loss: 0.8847 - acc: 0.7400 - val_loss: 0.9473 - val_acc: 0.6979\n",
      "Epoch 7/40\n",
      "14984/14984 [==============================] - 23s - loss: 0.8293 - acc: 0.7568 - val_loss: 0.7024 - val_acc: 0.8203\n",
      "Epoch 8/40\n",
      "14984/14984 [==============================] - 23s - loss: 0.6857 - acc: 0.8080 - val_loss: 0.5774 - val_acc: 0.8487\n",
      "Epoch 9/40\n",
      "14984/14984 [==============================] - 23s - loss: 0.6049 - acc: 0.8334 - val_loss: 0.5528 - val_acc: 0.8513\n",
      "Epoch 10/40\n",
      "14984/14984 [==============================] - 23s - loss: 0.5401 - acc: 0.8516 - val_loss: 0.5595 - val_acc: 0.8406\n",
      "Epoch 11/40\n",
      "14984/14984 [==============================] - 23s - loss: 0.4975 - acc: 0.8594 - val_loss: 0.5718 - val_acc: 0.8267\n",
      "Epoch 12/40\n",
      "14984/14984 [==============================] - 23s - loss: 0.4775 - acc: 0.8609 - val_loss: 0.4350 - val_acc: 0.8690\n",
      "Epoch 13/40\n",
      "14984/14984 [==============================] - 23s - loss: 0.4370 - acc: 0.8738 - val_loss: 0.4320 - val_acc: 0.8765\n",
      "Epoch 14/40\n",
      "14984/14984 [==============================] - 23s - loss: 0.4220 - acc: 0.8784 - val_loss: 0.4146 - val_acc: 0.8856\n",
      "Epoch 15/40\n",
      "14984/14984 [==============================] - 23s - loss: 0.4013 - acc: 0.8820 - val_loss: 0.3758 - val_acc: 0.8989\n",
      "Epoch 16/40\n",
      "14984/14984 [==============================] - 23s - loss: 0.3944 - acc: 0.8847 - val_loss: 0.3904 - val_acc: 0.8925\n",
      "Epoch 17/40\n",
      "14984/14984 [==============================] - 23s - loss: 0.3778 - acc: 0.8897 - val_loss: 0.3565 - val_acc: 0.8936\n",
      "Epoch 18/40\n",
      "14984/14984 [==============================] - 23s - loss: 0.3688 - acc: 0.8918 - val_loss: 0.3537 - val_acc: 0.8968\n",
      "Epoch 19/40\n",
      "14984/14984 [==============================] - 23s - loss: 0.3533 - acc: 0.8938 - val_loss: 0.3615 - val_acc: 0.8941\n",
      "Epoch 20/40\n",
      "14984/14984 [==============================] - 23s - loss: 0.3455 - acc: 0.8983 - val_loss: 0.3237 - val_acc: 0.9037\n",
      "Epoch 21/40\n",
      "14984/14984 [==============================] - 24s - loss: 0.3352 - acc: 0.8992 - val_loss: 0.3292 - val_acc: 0.9053\n",
      "Epoch 22/40\n",
      "14984/14984 [==============================] - 24s - loss: 0.3334 - acc: 0.9002 - val_loss: 0.4721 - val_acc: 0.8749\n",
      "Epoch 23/40\n",
      "14984/14984 [==============================] - 23s - loss: 0.3257 - acc: 0.9042 - val_loss: 0.3117 - val_acc: 0.9128\n",
      "Epoch 24/40\n",
      "14984/14984 [==============================] - 23s - loss: 0.3156 - acc: 0.9059 - val_loss: 0.3272 - val_acc: 0.9064\n",
      "Epoch 25/40\n",
      "14984/14984 [==============================] - 23s - loss: 0.3111 - acc: 0.9070 - val_loss: 0.2968 - val_acc: 0.9160\n",
      "Epoch 26/40\n",
      "14984/14984 [==============================] - 24s - loss: 0.3040 - acc: 0.9078 - val_loss: 0.3192 - val_acc: 0.9016\n",
      "Epoch 27/40\n",
      "14984/14984 [==============================] - 24s - loss: 0.2970 - acc: 0.9111 - val_loss: 0.2870 - val_acc: 0.9198\n",
      "Epoch 28/40\n",
      "14984/14984 [==============================] - 24s - loss: 0.2973 - acc: 0.9116 - val_loss: 0.2986 - val_acc: 0.9144\n",
      "Epoch 29/40\n",
      "14984/14984 [==============================] - 24s - loss: 0.2869 - acc: 0.9139 - val_loss: 0.3214 - val_acc: 0.9086\n",
      "Epoch 30/40\n",
      "14984/14984 [==============================] - 24s - loss: 0.2746 - acc: 0.9165 - val_loss: 0.2792 - val_acc: 0.9198\n",
      "Epoch 31/40\n",
      "14984/14984 [==============================] - 24s - loss: 0.2688 - acc: 0.9185 - val_loss: 0.2883 - val_acc: 0.9176\n",
      "Epoch 32/40\n",
      "14984/14984 [==============================] - 24s - loss: 0.2647 - acc: 0.9211 - val_loss: 0.2733 - val_acc: 0.9134\n",
      "Epoch 33/40\n",
      "14984/14984 [==============================] - 24s - loss: 0.2621 - acc: 0.9195 - val_loss: 0.2905 - val_acc: 0.9144\n",
      "Epoch 34/40\n",
      "14984/14984 [==============================] - 24s - loss: 0.2648 - acc: 0.9204 - val_loss: 0.2663 - val_acc: 0.9246\n",
      "Epoch 35/40\n",
      "14984/14984 [==============================] - 24s - loss: 0.2517 - acc: 0.9251 - val_loss: 0.2797 - val_acc: 0.9193\n",
      "Epoch 36/40\n",
      "14984/14984 [==============================] - 24s - loss: 0.2741 - acc: 0.9166 - val_loss: 0.3072 - val_acc: 0.9118\n",
      "Epoch 37/40\n",
      "14984/14984 [==============================] - 24s - loss: 0.2603 - acc: 0.9226 - val_loss: 0.3313 - val_acc: 0.9011\n",
      "Epoch 38/40\n",
      "14984/14984 [==============================] - 24s - loss: 0.2514 - acc: 0.9253 - val_loss: 0.2775 - val_acc: 0.9193\n",
      "Epoch 39/40\n",
      "14984/14984 [==============================] - 23s - loss: 0.2423 - acc: 0.9254 - val_loss: 0.2589 - val_acc: 0.9241\n",
      "Epoch 40/40\n",
      "14984/14984 [==============================] - 23s - loss: 0.2341 - acc: 0.9279 - val_loss: 0.2510 - val_acc: 0.9241\n"
     ]
    }
   ],
   "source": [
    "fit_history_e = model_e.fit(x_train.reshape(train_len, 1, 28, 28), y_train,\n",
    "                    batch_size=128, nb_epoch=40, verbose=1,\n",
    "                    validation_data=(x_valid.reshape(valid_len, 1, 28, 28), y_valid))"
   ]
  },
  {
   "cell_type": "code",
   "execution_count": 16,
   "metadata": {
    "collapsed": false
   },
   "outputs": [
    {
     "data": {
      "text/html": [
       "<div class=\"vega-embed\" id=\"bec55925-9111-4989-b2c7-64e03346bc12\"></div>\n",
       "\n",
       "<style>\n",
       ".vega-embed svg, .vega-embed canvas {\n",
       "  border: 1px dotted gray;\n",
       "}\n",
       "\n",
       ".vega-embed .vega-actions a {\n",
       "  margin-right: 6px;\n",
       "}\n",
       "</style>\n"
      ]
     },
     "metadata": {
      "jupyter-vega": "#bec55925-9111-4989-b2c7-64e03346bc12"
     },
     "output_type": "display_data"
    },
    {
     "data": {
      "application/javascript": [
       "var spec = {\"encoding\": {\"y\": {\"type\": \"quantitative\", \"field\": \"value\"}, \"x\": {\"type\": \"ordinal\", \"field\": \"epoch\"}, \"color\": {\"type\": \"nominal\", \"field\": \"metric\"}}, \"config\": {\"cell\": {\"width\": 500, \"height\": 350}}, \"mark\": \"line\", \"data\": {\"values\": [{\"metric\": \"val_acc\", \"epoch\": 0, \"value\": 0.4005347597726526}, {\"metric\": \"val_acc\", \"epoch\": 1, \"value\": 0.5914438502992538}, {\"metric\": \"val_acc\", \"epoch\": 2, \"value\": 0.6411764704607388}, {\"metric\": \"val_acc\", \"epoch\": 3, \"value\": 0.524064171218617}, {\"metric\": \"val_acc\", \"epoch\": 4, \"value\": 0.7096256694691704}, {\"metric\": \"val_acc\", \"epoch\": 5, \"value\": 0.6978609622481035}, {\"metric\": \"val_acc\", \"epoch\": 6, \"value\": 0.8203208549774904}, {\"metric\": \"val_acc\", \"epoch\": 7, \"value\": 0.8486631008392986}, {\"metric\": \"val_acc\", \"epoch\": 8, \"value\": 0.8513368976307425}, {\"metric\": \"val_acc\", \"epoch\": 9, \"value\": 0.8406417104649672}, {\"metric\": \"val_acc\", \"epoch\": 10, \"value\": 0.8267379672769557}, {\"metric\": \"val_acc\", \"epoch\": 11, \"value\": 0.8689839563905236}, {\"metric\": \"val_acc\", \"epoch\": 12, \"value\": 0.8764705886177838}, {\"metric\": \"val_acc\", \"epoch\": 13, \"value\": 0.8855614977086929}, {\"metric\": \"val_acc\", \"epoch\": 14, \"value\": 0.8989304803271982}, {\"metric\": \"val_acc\", \"epoch\": 15, \"value\": 0.8925133693664469}, {\"metric\": \"val_acc\", \"epoch\": 16, \"value\": 0.8935828880192762}, {\"metric\": \"val_acc\", \"epoch\": 17, \"value\": 0.8967914428940431}, {\"metric\": \"val_acc\", \"epoch\": 18, \"value\": 0.8941176462300958}, {\"metric\": \"val_acc\", \"epoch\": 19, \"value\": 0.9037433158267628}, {\"metric\": \"val_acc\", \"epoch\": 20, \"value\": 0.9053475939016291}, {\"metric\": \"val_acc\", \"epoch\": 21, \"value\": 0.8748663105429175}, {\"metric\": \"val_acc\", \"epoch\": 22, \"value\": 0.9128342236427063}, {\"metric\": \"val_acc\", \"epoch\": 23, \"value\": 0.9064171112794928}, {\"metric\": \"val_acc\", \"epoch\": 24, \"value\": 0.9160427797924389}, {\"metric\": \"val_acc\", \"epoch\": 25, \"value\": 0.9016042783936077}, {\"metric\": \"val_acc\", \"epoch\": 26, \"value\": 0.9197860965116776}, {\"metric\": \"val_acc\", \"epoch\": 27, \"value\": 0.9144385029287899}, {\"metric\": \"val_acc\", \"epoch\": 28, \"value\": 0.9085561487763961}, {\"metric\": \"val_acc\", \"epoch\": 29, \"value\": 0.9197860951092154}, {\"metric\": \"val_acc\", \"epoch\": 30, \"value\": 0.9176470578035569}, {\"metric\": \"val_acc\", \"epoch\": 31, \"value\": 0.9133689828734984}, {\"metric\": \"val_acc\", \"epoch\": 32, \"value\": 0.9144385017175726}, {\"metric\": \"val_acc\", \"epoch\": 33, \"value\": 0.9245989293975626}, {\"metric\": \"val_acc\", \"epoch\": 34, \"value\": 0.9192513358784232}, {\"metric\": \"val_acc\", \"epoch\": 35, \"value\": 0.9117647062010944}, {\"metric\": \"val_acc\", \"epoch\": 36, \"value\": 0.901069519035319}, {\"metric\": \"val_acc\", \"epoch\": 37, \"value\": 0.9192513358784232}, {\"metric\": \"val_acc\", \"epoch\": 38, \"value\": 0.9240641713779878}, {\"metric\": \"val_acc\", \"epoch\": 39, \"value\": 0.9240641713779878}, {\"metric\": \"acc\", \"epoch\": 0, \"value\": 0.5176187933796049}, {\"metric\": \"acc\", \"epoch\": 1, \"value\": 0.6235317672183662}, {\"metric\": \"acc\", \"epoch\": 2, \"value\": 0.6579017618793379}, {\"metric\": \"acc\", \"epoch\": 3, \"value\": 0.6785904965296317}, {\"metric\": \"acc\", \"epoch\": 4, \"value\": 0.7077549386011746}, {\"metric\": \"acc\", \"epoch\": 5, \"value\": 0.7399893219434063}, {\"metric\": \"acc\", \"epoch\": 6, \"value\": 0.7568072610784837}, {\"metric\": \"acc\", \"epoch\": 7, \"value\": 0.8079951948745329}, {\"metric\": \"acc\", \"epoch\": 8, \"value\": 0.8333555792845702}, {\"metric\": \"acc\", \"epoch\": 9, \"value\": 0.8516417512012814}, {\"metric\": \"acc\", \"epoch\": 10, \"value\": 0.8593833422317139}, {\"metric\": \"acc\", \"epoch\": 11, \"value\": 0.8608515750133475}, {\"metric\": \"acc\", \"epoch\": 12, \"value\": 0.8737987186332088}, {\"metric\": \"acc\", \"epoch\": 13, \"value\": 0.8784036305392419}, {\"metric\": \"acc\", \"epoch\": 14, \"value\": 0.8820074746396156}, {\"metric\": \"acc\", \"epoch\": 15, \"value\": 0.8846769887880406}, {\"metric\": \"acc\", \"epoch\": 16, \"value\": 0.8897490656700481}, {\"metric\": \"acc\", \"epoch\": 17, \"value\": 0.8918179391350775}, {\"metric\": \"acc\", \"epoch\": 18, \"value\": 0.8937533368926855}, {\"metric\": \"acc\", \"epoch\": 19, \"value\": 0.898291510945008}, {\"metric\": \"acc\", \"epoch\": 20, \"value\": 0.8991591030432461}, {\"metric\": \"acc\", \"epoch\": 21, \"value\": 0.9002269087026161}, {\"metric\": \"acc\", \"epoch\": 22, \"value\": 0.904164442071543}, {\"metric\": \"acc\", \"epoch\": 23, \"value\": 0.9058996262680192}, {\"metric\": \"acc\", \"epoch\": 24, \"value\": 0.9070341697810999}, {\"metric\": \"acc\", \"epoch\": 25, \"value\": 0.9078350240256273}, {\"metric\": \"acc\", \"epoch\": 26, \"value\": 0.9111051788574479}, {\"metric\": \"acc\", \"epoch\": 27, \"value\": 0.9116390816871329}, {\"metric\": \"acc\", \"epoch\": 28, \"value\": 0.9139081687132942}, {\"metric\": \"acc\", \"epoch\": 29, \"value\": 0.9165109450080086}, {\"metric\": \"acc\", \"epoch\": 30, \"value\": 0.9185130806193272}, {\"metric\": \"acc\", \"epoch\": 31, \"value\": 0.9211158569140416}, {\"metric\": \"acc\", \"epoch\": 32, \"value\": 0.9195141484249867}, {\"metric\": \"acc\", \"epoch\": 33, \"value\": 0.9204484783769354}, {\"metric\": \"acc\", \"epoch\": 34, \"value\": 0.9250533902829685}, {\"metric\": \"acc\", \"epoch\": 35, \"value\": 0.9165776828617191}, {\"metric\": \"acc\", \"epoch\": 36, \"value\": 0.9225840896956754}, {\"metric\": \"acc\", \"epoch\": 37, \"value\": 0.9252536038441004}, {\"metric\": \"acc\", \"epoch\": 38, \"value\": 0.9253870795515217}, {\"metric\": \"acc\", \"epoch\": 39, \"value\": 0.9278563801388148}]}};\n",
       "var selector = \"#bec55925-9111-4989-b2c7-64e03346bc12\";\n",
       "var type = \"vega-lite\";\n",
       "\n",
       "var output_area = this;\n",
       "require(['nbextensions/jupyter-vega/index'], function(vega) {\n",
       "  vega.render(selector, spec, type, output_area);\n",
       "}, function (err) {\n",
       "  if (err.requireType !== 'scripterror') {\n",
       "    throw(err);\n",
       "  }\n",
       "});\n"
      ]
     },
     "metadata": {
      "jupyter-vega": "#bec55925-9111-4989-b2c7-64e03346bc12"
     },
     "output_type": "display_data"
    },
    {
     "data": {
      "image/png": "[encoded data removed]"
     },
     "metadata": {
      "jupyter-vega": "#bec55925-9111-4989-b2c7-64e03346bc12"
     },
     "output_type": "display_data"
    }
   ],
   "source": [
    "chart_acc(fit_history_e)"
   ]
  },
  {
   "cell_type": "code",
   "execution_count": 17,
   "metadata": {
    "collapsed": false
   },
   "outputs": [
    {
     "name": "stdout",
     "output_type": "stream",
     "text": [
      "1870/1870 [==============================] - 0s     \n",
      "Test score: 0.270375250961\n",
      "Test accuracy: 0.922459893048\n"
     ]
    }
   ],
   "source": [
    "score = model_e.evaluate(x_test.reshape(test_len, 1, 28, 28), y_test, verbose=1)\n",
    "print('Test score:', score[0])\n",
    "print('Test accuracy:', score[1])"
   ]
  },
  {
   "cell_type": "markdown",
   "metadata": {},
   "source": [
    "---\n",
    "# Model F (two convolutional layers with maxpooling layers and dropout)"
   ]
  },
  {
   "cell_type": "code",
   "execution_count": 30,
   "metadata": {
    "collapsed": true
   },
   "outputs": [],
   "source": [
    "model_f = Sequential([\n",
    "        Convolution2D(32, 5, 5, activation='relu', border_mode='valid', subsample=(2, 2), input_shape=(1, 28, 28)),\n",
    "        MaxPooling2D(strides=(1, 1)),\n",
    "        Convolution2D(2, 3, 3, activation='relu', border_mode='valid', subsample=(1, 1)),\n",
    "        MaxPooling2D(strides=(1, 1)),\n",
    "        Flatten(),\n",
    "        Dense(1024, activation='tanh'),\n",
    "        Dropout(0.5),\n",
    "        Dense(10, activation='softmax')])\n",
    "\n",
    "model_f.compile(loss='categorical_crossentropy',\n",
    "              optimizer='sgd',\n",
    "              metrics=['accuracy'])"
   ]
  },
  {
   "cell_type": "code",
   "execution_count": 31,
   "metadata": {
    "collapsed": false
   },
   "outputs": [
    {
     "name": "stdout",
     "output_type": "stream",
     "text": [
      "____________________________________________________________________________________________________\n",
      "Layer (type)                     Output Shape          Param #     Connected to                     \n",
      "====================================================================================================\n",
      "convolution2d_11 (Convolution2D) (None, 32, 12, 12)    832         convolution2d_input_6[0][0]      \n",
      "____________________________________________________________________________________________________\n",
      "maxpooling2d_10 (MaxPooling2D)   (None, 32, 11, 11)    0           convolution2d_11[0][0]           \n",
      "____________________________________________________________________________________________________\n",
      "convolution2d_12 (Convolution2D) (None, 2, 9, 9)       578         maxpooling2d_10[0][0]            \n",
      "____________________________________________________________________________________________________\n",
      "maxpooling2d_11 (MaxPooling2D)   (None, 2, 8, 8)       0           convolution2d_12[0][0]           \n",
      "____________________________________________________________________________________________________\n",
      "flatten_6 (Flatten)              (None, 128)           0           maxpooling2d_11[0][0]            \n",
      "____________________________________________________________________________________________________\n",
      "dense_11 (Dense)                 (None, 1024)          132096      flatten_6[0][0]                  \n",
      "____________________________________________________________________________________________________\n",
      "dropout_6 (Dropout)              (None, 1024)          0           dense_11[0][0]                   \n",
      "____________________________________________________________________________________________________\n",
      "dense_12 (Dense)                 (None, 10)            10250       dropout_6[0][0]                  \n",
      "====================================================================================================\n",
      "Total params: 143756\n",
      "____________________________________________________________________________________________________\n"
     ]
    }
   ],
   "source": [
    "model_f.summary()"
   ]
  },
  {
   "cell_type": "code",
   "execution_count": 32,
   "metadata": {
    "collapsed": false
   },
   "outputs": [
    {
     "name": "stdout",
     "output_type": "stream",
     "text": [
      "Train on 14984 samples, validate on 1870 samples\n",
      "Epoch 1/40\n",
      "14984/14984 [==============================] - 20s - loss: 1.9106 - acc: 0.3948 - val_loss: 1.8660 - val_acc: 0.3535\n",
      "Epoch 2/40\n",
      "14984/14984 [==============================] - 21s - loss: 1.5066 - acc: 0.5124 - val_loss: 1.7229 - val_acc: 0.4476\n",
      "Epoch 3/40\n",
      "14984/14984 [==============================] - 21s - loss: 2.0394 - acc: 0.3389 - val_loss: 1.8099 - val_acc: 0.3904\n",
      "Epoch 4/40\n",
      "14984/14984 [==============================] - 21s - loss: 1.5273 - acc: 0.5019 - val_loss: 1.4327 - val_acc: 0.5283\n",
      "Epoch 5/40\n",
      "14984/14984 [==============================] - 20s - loss: 1.4022 - acc: 0.5511 - val_loss: 1.1170 - val_acc: 0.6198\n",
      "Epoch 6/40\n",
      "14984/14984 [==============================] - 21s - loss: 1.3763 - acc: 0.5562 - val_loss: 1.1193 - val_acc: 0.6535\n",
      "Epoch 7/40\n",
      "14984/14984 [==============================] - 20s - loss: 1.2447 - acc: 0.6127 - val_loss: 0.9681 - val_acc: 0.7257\n",
      "Epoch 8/40\n",
      "14984/14984 [==============================] - 20s - loss: 1.1946 - acc: 0.6359 - val_loss: 1.0992 - val_acc: 0.6358\n",
      "Epoch 9/40\n",
      "14984/14984 [==============================] - 21s - loss: 1.2005 - acc: 0.6334 - val_loss: 1.0523 - val_acc: 0.6620\n",
      "Epoch 10/40\n",
      "14984/14984 [==============================] - 20s - loss: 1.1656 - acc: 0.6410 - val_loss: 1.0104 - val_acc: 0.7091\n",
      "Epoch 11/40\n",
      "14984/14984 [==============================] - 21s - loss: 1.1435 - acc: 0.6512 - val_loss: 1.0797 - val_acc: 0.6326\n",
      "Epoch 12/40\n",
      "14984/14984 [==============================] - 21s - loss: 1.1542 - acc: 0.6428 - val_loss: 1.2816 - val_acc: 0.5690\n",
      "Epoch 13/40\n",
      "14984/14984 [==============================] - 20s - loss: 1.2405 - acc: 0.6063 - val_loss: 1.0794 - val_acc: 0.6925\n",
      "Epoch 14/40\n",
      "14984/14984 [==============================] - 20s - loss: 1.2163 - acc: 0.6165 - val_loss: 0.9912 - val_acc: 0.7053\n",
      "Epoch 15/40\n",
      "14984/14984 [==============================] - 21s - loss: 1.1763 - acc: 0.6444 - val_loss: 1.0675 - val_acc: 0.6465\n",
      "Epoch 16/40\n",
      "14984/14984 [==============================] - 21s - loss: 1.1604 - acc: 0.6427 - val_loss: 1.0346 - val_acc: 0.6711\n",
      "Epoch 17/40\n",
      "14984/14984 [==============================] - 21s - loss: 1.1317 - acc: 0.6544 - val_loss: 1.0789 - val_acc: 0.6695\n",
      "Epoch 18/40\n",
      "14984/14984 [==============================] - 21s - loss: 1.2388 - acc: 0.6109 - val_loss: 1.0160 - val_acc: 0.7059\n",
      "Epoch 19/40\n",
      "14984/14984 [==============================] - 21s - loss: 1.2506 - acc: 0.6024 - val_loss: 1.1307 - val_acc: 0.6802\n",
      "Epoch 20/40\n",
      "14984/14984 [==============================] - 21s - loss: 1.2163 - acc: 0.6327 - val_loss: 1.1460 - val_acc: 0.6930\n",
      "Epoch 21/40\n",
      "14984/14984 [==============================] - 21s - loss: 1.1865 - acc: 0.6379 - val_loss: 1.2605 - val_acc: 0.6091\n",
      "Epoch 22/40\n",
      "14984/14984 [==============================] - 20s - loss: 1.2045 - acc: 0.6175 - val_loss: 1.1287 - val_acc: 0.6251\n",
      "Epoch 23/40\n",
      "14984/14984 [==============================] - 21s - loss: 1.1584 - acc: 0.6474 - val_loss: 1.1581 - val_acc: 0.6128\n",
      "Epoch 24/40\n",
      "14984/14984 [==============================] - 21s - loss: 1.1505 - acc: 0.6344 - val_loss: 1.1950 - val_acc: 0.6080\n",
      "Epoch 25/40\n",
      "14984/14984 [==============================] - 21s - loss: 1.1238 - acc: 0.6525 - val_loss: 1.1792 - val_acc: 0.5968\n",
      "Epoch 26/40\n",
      "14984/14984 [==============================] - 21s - loss: 1.1450 - acc: 0.6491 - val_loss: 1.2000 - val_acc: 0.6283\n",
      "Epoch 27/40\n",
      "14984/14984 [==============================] - 21s - loss: 1.1700 - acc: 0.6350 - val_loss: 1.1064 - val_acc: 0.6540\n",
      "Epoch 28/40\n",
      "14984/14984 [==============================] - 21s - loss: 1.1524 - acc: 0.6324 - val_loss: 1.1607 - val_acc: 0.6652\n",
      "Epoch 29/40\n",
      "14984/14984 [==============================] - 21s - loss: 1.2004 - acc: 0.6169 - val_loss: 1.1476 - val_acc: 0.6187\n",
      "Epoch 30/40\n",
      "14984/14984 [==============================] - 21s - loss: 1.1621 - acc: 0.6349 - val_loss: 0.9949 - val_acc: 0.6995\n",
      "Epoch 31/40\n",
      "14984/14984 [==============================] - 20s - loss: 1.1657 - acc: 0.6300 - val_loss: 1.1239 - val_acc: 0.6647\n",
      "Epoch 32/40\n",
      "14984/14984 [==============================] - 21s - loss: 1.1628 - acc: 0.6329 - val_loss: 1.2312 - val_acc: 0.5984\n",
      "Epoch 33/40\n",
      "14984/14984 [==============================] - 21s - loss: 1.2210 - acc: 0.6390 - val_loss: 1.0043 - val_acc: 0.7123\n",
      "Epoch 34/40\n",
      "14984/14984 [==============================] - 20s - loss: 1.2050 - acc: 0.6087 - val_loss: 1.2289 - val_acc: 0.5620\n",
      "Epoch 35/40\n",
      "14984/14984 [==============================] - 21s - loss: 1.4979 - acc: 0.4862 - val_loss: 2.3035 - val_acc: 0.1000\n",
      "Epoch 36/40\n",
      "14984/14984 [==============================] - 21s - loss: 2.3035 - acc: 0.1000 - val_loss: 2.3033 - val_acc: 0.1000\n",
      "Epoch 37/40\n",
      "14984/14984 [==============================] - 21s - loss: 2.3032 - acc: 0.1000 - val_loss: 2.3031 - val_acc: 0.1000\n",
      "Epoch 38/40\n",
      "14984/14984 [==============================] - 21s - loss: 2.3031 - acc: 0.1000 - val_loss: 2.3030 - val_acc: 0.1000\n",
      "Epoch 39/40\n",
      "14984/14984 [==============================] - 21s - loss: 2.3031 - acc: 0.1000 - val_loss: 2.3029 - val_acc: 0.1000\n",
      "Epoch 40/40\n",
      "14984/14984 [==============================] - 21s - loss: 2.3030 - acc: 0.1000 - val_loss: 2.3029 - val_acc: 0.1000\n"
     ]
    }
   ],
   "source": [
    "fit_history_f = model_f.fit(x_train.reshape(train_len, 1, 28, 28), y_train,\n",
    "                    batch_size=128, nb_epoch=40, verbose=1,\n",
    "                    validation_data=(x_valid.reshape(valid_len, 1, 28, 28), y_valid))"
   ]
  },
  {
   "cell_type": "code",
   "execution_count": 34,
   "metadata": {
    "collapsed": false
   },
   "outputs": [
    {
     "data": {
      "text/html": [
       "<div class=\"vega-embed\" id=\"b57edacd-5483-475a-9057-43cd5987b64f\"></div>\n",
       "\n",
       "<style>\n",
       ".vega-embed svg, .vega-embed canvas {\n",
       "  border: 1px dotted gray;\n",
       "}\n",
       "\n",
       ".vega-embed .vega-actions a {\n",
       "  margin-right: 6px;\n",
       "}\n",
       "</style>\n"
      ]
     },
     "metadata": {
      "jupyter-vega": "#b57edacd-5483-475a-9057-43cd5987b64f"
     },
     "output_type": "display_data"
    },
    {
     "data": {
      "application/javascript": [
       "var spec = {\"encoding\": {\"y\": {\"type\": \"quantitative\", \"field\": \"value\"}, \"x\": {\"type\": \"ordinal\", \"field\": \"epoch\"}, \"color\": {\"type\": \"nominal\", \"field\": \"metric\"}}, \"config\": {\"cell\": {\"width\": 500, \"height\": 350}}, \"mark\": \"line\", \"data\": {\"values\": [{\"metric\": \"val_acc\", \"epoch\": 0, \"value\": 0.3534759361794926}, {\"metric\": \"val_acc\", \"epoch\": 1, \"value\": 0.44759358311081954}, {\"metric\": \"val_acc\", \"epoch\": 2, \"value\": 0.39037433193329185}, {\"metric\": \"val_acc\", \"epoch\": 3, \"value\": 0.5283422461486755}, {\"metric\": \"val_acc\", \"epoch\": 4, \"value\": 0.6197860972129088}, {\"metric\": \"val_acc\", \"epoch\": 5, \"value\": 0.6534759367851013}, {\"metric\": \"val_acc\", \"epoch\": 6, \"value\": 0.7256684488153713}, {\"metric\": \"val_acc\", \"epoch\": 7, \"value\": 0.6358288768778511}, {\"metric\": \"val_acc\", \"epoch\": 8, \"value\": 0.6620320853065041}, {\"metric\": \"val_acc\", \"epoch\": 9, \"value\": 0.7090909099833851}, {\"metric\": \"val_acc\", \"epoch\": 10, \"value\": 0.6326203220668324}, {\"metric\": \"val_acc\", \"epoch\": 11, \"value\": 0.5689839583667204}, {\"metric\": \"val_acc\", \"epoch\": 12, \"value\": 0.6925133699401814}, {\"metric\": \"val_acc\", \"epoch\": 13, \"value\": 0.7053475933278945}, {\"metric\": \"val_acc\", \"epoch\": 14, \"value\": 0.6465240651273473}, {\"metric\": \"val_acc\", \"epoch\": 15, \"value\": 0.6711229943974133}, {\"metric\": \"val_acc\", \"epoch\": 16, \"value\": 0.6695187174700161}, {\"metric\": \"val_acc\", \"epoch\": 17, \"value\": 0.705882353961149}, {\"metric\": \"val_acc\", \"epoch\": 18, \"value\": 0.6802139048270364}, {\"metric\": \"val_acc\", \"epoch\": 19, \"value\": 0.6930481292347219}, {\"metric\": \"val_acc\", \"epoch\": 20, \"value\": 0.6090909089634126}, {\"metric\": \"val_acc\", \"epoch\": 21, \"value\": 0.6251336910507895}, {\"metric\": \"val_acc\", \"epoch\": 22, \"value\": 0.6128342243439373}, {\"metric\": \"val_acc\", \"epoch\": 23, \"value\": 0.6080213901193384}, {\"metric\": \"val_acc\", \"epoch\": 24, \"value\": 0.5967914450614847}, {\"metric\": \"val_acc\", \"epoch\": 25, \"value\": 0.6283422468817808}, {\"metric\": \"val_acc\", \"epoch\": 26, \"value\": 0.6540106948046761}, {\"metric\": \"val_acc\", \"epoch\": 27, \"value\": 0.6652406414562368}, {\"metric\": \"val_acc\", \"epoch\": 28, \"value\": 0.6187165786238278}, {\"metric\": \"val_acc\", \"epoch\": 29, \"value\": 0.6994652414704389}, {\"metric\": \"val_acc\", \"epoch\": 30, \"value\": 0.6647058833729137}, {\"metric\": \"val_acc\", \"epoch\": 31, \"value\": 0.5983957219251337}, {\"metric\": \"val_acc\", \"epoch\": 32, \"value\": 0.7122994649219003}, {\"metric\": \"val_acc\", \"epoch\": 33, \"value\": 0.5620320867089664}, {\"metric\": \"val_acc\", \"epoch\": 34, \"value\": 0.10000000005577975}, {\"metric\": \"val_acc\", \"epoch\": 35, \"value\": 0.10000000005577975}, {\"metric\": \"val_acc\", \"epoch\": 36, \"value\": 0.10000000005577975}, {\"metric\": \"val_acc\", \"epoch\": 37, \"value\": 0.10000000005577975}, {\"metric\": \"val_acc\", \"epoch\": 38, \"value\": 0.10000000005577975}, {\"metric\": \"val_acc\", \"epoch\": 39, \"value\": 0.10000000005577975}, {\"metric\": \"acc\", \"epoch\": 0, \"value\": 0.3947544046983449}, {\"metric\": \"acc\", \"epoch\": 1, \"value\": 0.5124132407901761}, {\"metric\": \"acc\", \"epoch\": 2, \"value\": 0.33889482114255204}, {\"metric\": \"acc\", \"epoch\": 3, \"value\": 0.5019353977576081}, {\"metric\": \"acc\", \"epoch\": 4, \"value\": 0.5510544580886279}, {\"metric\": \"acc\", \"epoch\": 5, \"value\": 0.5561932728243459}, {\"metric\": \"acc\", \"epoch\": 6, \"value\": 0.612720234917245}, {\"metric\": \"acc\", \"epoch\": 7, \"value\": 0.6358782701548318}, {\"metric\": \"acc\", \"epoch\": 8, \"value\": 0.6334089695675387}, {\"metric\": \"acc\", \"epoch\": 9, \"value\": 0.6409503470368393}, {\"metric\": \"acc\", \"epoch\": 10, \"value\": 0.6511612386545649}, {\"metric\": \"acc\", \"epoch\": 11, \"value\": 0.6427522690870262}, {\"metric\": \"acc\", \"epoch\": 12, \"value\": 0.606313400961025}, {\"metric\": \"acc\", \"epoch\": 13, \"value\": 0.6165242925787506}, {\"metric\": \"acc\", \"epoch\": 14, \"value\": 0.6444207154297917}, {\"metric\": \"acc\", \"epoch\": 15, \"value\": 0.6426855312333155}, {\"metric\": \"acc\", \"epoch\": 16, \"value\": 0.6544313934863855}, {\"metric\": \"acc\", \"epoch\": 17, \"value\": 0.6108515750133475}, {\"metric\": \"acc\", \"epoch\": 18, \"value\": 0.6023758675920983}, {\"metric\": \"acc\", \"epoch\": 19, \"value\": 0.6327415910304325}, {\"metric\": \"acc\", \"epoch\": 20, \"value\": 0.6379471436198612}, {\"metric\": \"acc\", \"epoch\": 21, \"value\": 0.6175253603844101}, {\"metric\": \"acc\", \"epoch\": 22, \"value\": 0.6473571809930593}, {\"metric\": \"acc\", \"epoch\": 23, \"value\": 0.6344100373731981}, {\"metric\": \"acc\", \"epoch\": 24, \"value\": 0.6524959957287774}, {\"metric\": \"acc\", \"epoch\": 25, \"value\": 0.6490923651895355}, {\"metric\": \"acc\", \"epoch\": 26, \"value\": 0.6350106780565937}, {\"metric\": \"acc\", \"epoch\": 27, \"value\": 0.6324079017618793}, {\"metric\": \"acc\", \"epoch\": 28, \"value\": 0.6169247197010144}, {\"metric\": \"acc\", \"epoch\": 29, \"value\": 0.6348772023491724}, {\"metric\": \"acc\", \"epoch\": 30, \"value\": 0.6300053390282968}, {\"metric\": \"acc\", \"epoch\": 31, \"value\": 0.6328750667378538}, {\"metric\": \"acc\", \"epoch\": 32, \"value\": 0.6390149492792312}, {\"metric\": \"acc\", \"epoch\": 33, \"value\": 0.6087159636946076}, {\"metric\": \"acc\", \"epoch\": 34, \"value\": 0.4861852642819007}, {\"metric\": \"acc\", \"epoch\": 35, \"value\": 0.09997330485851574}, {\"metric\": \"acc\", \"epoch\": 36, \"value\": 0.09997330485851574}, {\"metric\": \"acc\", \"epoch\": 37, \"value\": 0.09997330485851574}, {\"metric\": \"acc\", \"epoch\": 38, \"value\": 0.09997330485851574}, {\"metric\": \"acc\", \"epoch\": 39, \"value\": 0.09997330485851574}]}};\n",
       "var selector = \"#b57edacd-5483-475a-9057-43cd5987b64f\";\n",
       "var type = \"vega-lite\";\n",
       "\n",
       "var output_area = this;\n",
       "require(['nbextensions/jupyter-vega/index'], function(vega) {\n",
       "  vega.render(selector, spec, type, output_area);\n",
       "}, function (err) {\n",
       "  if (err.requireType !== 'scripterror') {\n",
       "    throw(err);\n",
       "  }\n",
       "});\n"
      ]
     },
     "metadata": {
      "jupyter-vega": "#b57edacd-5483-475a-9057-43cd5987b64f"
     },
     "output_type": "display_data"
    },
    {
     "data": {
      "image/png": "[encoded data removed]"
     },
     "metadata": {
      "jupyter-vega": "#b57edacd-5483-475a-9057-43cd5987b64f"
     },
     "output_type": "display_data"
    }
   ],
   "source": [
    "chart_acc(fit_history_f)"
   ]
  },
  {
   "cell_type": "code",
   "execution_count": null,
   "metadata": {
    "collapsed": false
   },
   "outputs": [],
   "source": [
    "score = model_f.evaluate(x_test.reshape(test_len, 1, 28, 28), y_test, verbose=1)\n",
    "print('Test score:', score[0])\n",
    "print('Test accuracy:', score[1])"
   ]
  }
 ],
 "metadata": {
  "kernelspec": {
   "display_name": "Python 3",
   "language": "python",
   "name": "python3"
  },
  "language_info": {
   "codemirror_mode": {
    "name": "ipython",
    "version": 3
   },
   "file_extension": ".py",
   "mimetype": "text/x-python",
   "name": "python",
   "nbconvert_exporter": "python",
   "pygments_lexer": "ipython3",
   "version": "3.4.3"
  }
 },
 "nbformat": 4,
 "nbformat_minor": 1
}

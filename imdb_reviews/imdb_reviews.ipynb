{
 "cells": [
  {
   "cell_type": "markdown",
   "metadata": {},
   "source": [
    "# Load reviews and import modules"
   ]
  },
  {
   "cell_type": "code",
   "execution_count": 1,
   "metadata": {
    "collapsed": true
   },
   "outputs": [],
   "source": [
    "import numpy as np\n",
    "import pandas as pd"
   ]
  },
  {
   "cell_type": "code",
   "execution_count": 2,
   "metadata": {
    "collapsed": false
   },
   "outputs": [],
   "source": [
    "with open('../datasets/imdb_reviews.pcl2', 'rb') as pcl_file:\n",
    "    import pickle\n",
    "    dataset = pickle.load(pcl_file)"
   ]
  },
  {
   "cell_type": "markdown",
   "metadata": {},
   "source": [
    "---\n",
    "\n",
    "# Bag Of Words"
   ]
  },
  {
   "cell_type": "markdown",
   "metadata": {},
   "source": [
    "## Vectorize the reviews"
   ]
  },
  {
   "cell_type": "markdown",
   "metadata": {},
   "source": [
    "Whole dataset contains `N` distinct words, so each review turns into a vector with `N` components, in which each coordinate represents the number of occurences of corresponding word in the review."
   ]
  },
  {
   "cell_type": "code",
   "execution_count": 3,
   "metadata": {
    "collapsed": false
   },
   "outputs": [],
   "source": [
    "from sklearn.feature_extraction.text import CountVectorizer\n",
    "\n",
    "reviews = dataset['review'].map(lambda r: ' '.join([' '.join(s) for s in r]))\n",
    "\n",
    "vectorizer = CountVectorizer(ngram_range=(1,1))\n",
    "review_codes = vectorizer.fit_transform(reviews.values)"
   ]
  },
  {
   "cell_type": "markdown",
   "metadata": {},
   "source": [
    "## Calculate co-occurence matrix"
   ]
  },
  {
   "cell_type": "markdown",
   "metadata": {},
   "source": [
    "The number of times two particular words occur in the same review can be calculated via multiplying transposed matrix of review codes and itself. "
   ]
  },
  {
   "cell_type": "code",
   "execution_count": 4,
   "metadata": {
    "collapsed": true
   },
   "outputs": [],
   "source": [
    "# coo_matrix = review_codes.T * review_codes"
   ]
  },
  {
   "cell_type": "markdown",
   "metadata": {},
   "source": [
    "## Find the most frequent words (of length more than 3) and their codes"
   ]
  },
  {
   "cell_type": "code",
   "execution_count": 5,
   "metadata": {
    "collapsed": false
   },
   "outputs": [
    {
     "name": "stderr",
     "output_type": "stream",
     "text": [
      "Using Theano backend.\n"
     ]
    }
   ],
   "source": [
    "from keras.utils import np_utils\n",
    "\n",
    "nbs_occur = np.asarray(review_codes.sum(axis=0)).ravel()\n",
    "feat_names = vectorizer.get_feature_names()\n",
    "\n",
    "nb_top = 20\n",
    "sz = review_codes.shape[1]\n",
    "\n",
    "pairs = [x for x in zip(nbs_occur, feat_names) if len(x[1]) > 3]\n",
    "top_pairs = sorted(pairs, reverse=True)[:nb_top]\n",
    "top_words = [x[1] for x in top_pairs]\n",
    "top_word_codes = np_utils.to_categorical([vectorizer.vocabulary_.get(x) for x in top_words], nb_classes=sz)"
   ]
  },
  {
   "cell_type": "markdown",
   "metadata": {},
   "source": [
    "## Use SVD and transform 20 most frequent words into 2D vectors"
   ]
  },
  {
   "cell_type": "code",
   "execution_count": 6,
   "metadata": {
    "collapsed": false
   },
   "outputs": [],
   "source": [
    "from sklearn.decomposition import TruncatedSVD\n",
    "\n",
    "svd = TruncatedSVD()\n",
    "svd.fit(review_codes)\n",
    "top_svd = svd.transform(top_word_codes)"
   ]
  },
  {
   "cell_type": "markdown",
   "metadata": {},
   "source": [
    "## Visualize 20 most frequent words as 2D points"
   ]
  },
  {
   "cell_type": "code",
   "execution_count": 7,
   "metadata": {
    "collapsed": false
   },
   "outputs": [
    {
     "data": {
      "text/html": [
       "<div class=\"vega-embed\" id=\"e048e3b8-ccf2-4c04-aaa9-fb72bf04d635\"></div>\n",
       "\n",
       "<style>\n",
       ".vega-embed svg, .vega-embed canvas {\n",
       "  border: 1px dotted gray;\n",
       "}\n",
       "\n",
       ".vega-embed .vega-actions a {\n",
       "  margin-right: 6px;\n",
       "}\n",
       "</style>\n"
      ]
     },
     "metadata": {
      "jupyter-vega": "#e048e3b8-ccf2-4c04-aaa9-fb72bf04d635"
     },
     "output_type": "display_data"
    },
    {
     "data": {
      "application/javascript": [
       "var spec = {\"data\": {\"values\": [{\"y\": 0.7219920280141098, \"x\": 0.3835880690688271, \"word\": \"movie\"}, {\"y\": -0.6584083188025005, \"x\": 0.38762028706075746, \"word\": \"film\"}, {\"y\": 0.029168290625239377, \"x\": 0.18962616856329317, \"word\": \"like\"}, {\"y\": 0.025802748236937442, \"x\": 0.13026921504634034, \"word\": \"good\"}, {\"y\": -0.0021335142500711664, \"x\": 0.11231969243748331, \"word\": \"time\"}, {\"y\": 0.006828060457315485, \"x\": 0.11875516982552406, \"word\": \"even\"}, {\"y\": 0.0019692578398418474, \"x\": 0.11370826143108376, \"word\": \"would\"}, {\"y\": -0.01626096647737214, \"x\": 0.10344364458242143, \"word\": \"story\"}, {\"y\": 0.02016745352474269, \"x\": 0.10714849570545223, \"word\": \"really\"}, {\"y\": -0.020701577682956284, \"x\": 0.09541947074920518, \"word\": \"well\"}, {\"y\": -0.011789939072722676, \"x\": 0.09031098877464856, \"word\": \"much\"}, {\"y\": 0.00709282459723149, \"x\": 0.08401641854241787, \"word\": \"people\"}, {\"y\": -0.018884213015460224, \"x\": 0.08661508706199662, \"word\": \"also\"}, {\"y\": -0.003587201817148319, \"x\": 0.08443836633786846, \"word\": \"first\"}, {\"y\": -0.0034607888348768038, \"x\": 0.07325202855245606, \"word\": \"great\"}, {\"y\": 0.0016128968585458789, \"x\": 0.07338442237943807, \"word\": \"made\"}, {\"y\": 0.0035755225061872065, \"x\": 0.07411847442222345, \"word\": \"make\"}, {\"y\": 0.0005792438372611602, \"x\": 0.07099017243819375, \"word\": \"could\"}, {\"y\": 0.08228810983702062, \"x\": 0.06560149928626155, \"word\": \"movies\"}, {\"y\": 0.014470583640241183, \"x\": 0.06595237008830225, \"word\": \"think\"}]}, \"encoding\": {\"color\": {\"field\": \"word\", \"scale\": {\"range\": \"category20\"}, \"type\": \"nominal\", \"title\": \"Word\"}, \"text\": {\"field\": \"word\", \"type\": \"nominal\"}, \"y\": {\"field\": \"y\", \"type\": \"quantitative\"}, \"x\": {\"field\": \"x\", \"type\": \"quantitative\"}}, \"config\": {\"cell\": {\"width\": 500, \"height\": 350}}, \"mark\": \"text\"};\n",
       "var selector = \"#e048e3b8-ccf2-4c04-aaa9-fb72bf04d635\";\n",
       "var type = \"vega-lite\";\n",
       "\n",
       "var output_area = this;\n",
       "require(['nbextensions/jupyter-vega/index'], function(vega) {\n",
       "  vega.render(selector, spec, type, output_area);\n",
       "}, function (err) {\n",
       "  if (err.requireType !== 'scripterror') {\n",
       "    throw(err);\n",
       "  }\n",
       "});\n"
      ]
     },
     "metadata": {
      "jupyter-vega": "#e048e3b8-ccf2-4c04-aaa9-fb72bf04d635"
     },
     "output_type": "display_data"
    },
    {
     "data": {
      "image/png": "[encoded data removed]"
     },
     "metadata": {
      "jupyter-vega": "#e048e3b8-ccf2-4c04-aaa9-fb72bf04d635"
     },
     "output_type": "display_data"
    }
   ],
   "source": [
    "from altair import *\n",
    "\n",
    "svd_tidy = pd.DataFrame(top_svd, columns=['x', 'y'])\n",
    "svd_tidy['word'] = top_words\n",
    "\n",
    "Chart(svd_tidy).mark_text().encode(\n",
    "    x='x',\n",
    "    y='y',\n",
    "    color=Color('word', title='Word', scale=Scale(range='category20')),\n",
    "    text='word'\n",
    ")"
   ]
  },
  {
   "cell_type": "markdown",
   "metadata": {},
   "source": [
    "---\n",
    "\n",
    "# Word2vec"
   ]
  },
  {
   "cell_type": "markdown",
   "metadata": {},
   "source": [
    "## Reorganize the data"
   ]
  },
  {
   "cell_type": "code",
   "execution_count": 8,
   "metadata": {
    "collapsed": true
   },
   "outputs": [],
   "source": [
    "sentences = []\n",
    "for r in dataset['review']:\n",
    "    sentences += r"
   ]
  },
  {
   "cell_type": "markdown",
   "metadata": {},
   "source": [
    "## Train the model"
   ]
  },
  {
   "cell_type": "code",
   "execution_count": 9,
   "metadata": {
    "collapsed": false
   },
   "outputs": [],
   "source": [
    "from gensim.models import word2vec\n",
    "\n",
    "nb_features = 100\n",
    "nb_workers = 4\n",
    "\n",
    "w2v_model = word2vec.Word2Vec(sentences, workers=nb_workers, size=nb_features)"
   ]
  },
  {
   "cell_type": "code",
   "execution_count": 10,
   "metadata": {
    "collapsed": true
   },
   "outputs": [],
   "source": [
    "w2v_model.init_sims(replace=True)"
   ]
  },
  {
   "cell_type": "markdown",
   "metadata": {},
   "source": [
    "## Reduce dimensionality with TSNE"
   ]
  },
  {
   "cell_type": "markdown",
   "metadata": {},
   "source": [
    "Use only 20 words to fit TSNE model, because otherwise MemoryError occurs."
   ]
  },
  {
   "cell_type": "code",
   "execution_count": 11,
   "metadata": {
    "collapsed": false
   },
   "outputs": [],
   "source": [
    "from sklearn.manifold import TSNE\n",
    "\n",
    "# svd_assist = TruncatedSVD(n_components=5)\n",
    "# lower_dim = svd_assist.fit_transform(w2v_model.syn0)\n",
    "\n",
    "tsne_model = TSNE()\n",
    "top_tsne = tsne_model.fit_transform(np.array([w2v_model[w] for w in top_words]))"
   ]
  },
  {
   "cell_type": "markdown",
   "metadata": {},
   "source": [
    "## Visualize 20 most frequent words as 2D points"
   ]
  },
  {
   "cell_type": "code",
   "execution_count": 12,
   "metadata": {
    "collapsed": false
   },
   "outputs": [
    {
     "data": {
      "text/html": [
       "<div class=\"vega-embed\" id=\"23a014e8-15a6-4d31-a5ae-0a7f81f241c5\"></div>\n",
       "\n",
       "<style>\n",
       ".vega-embed svg, .vega-embed canvas {\n",
       "  border: 1px dotted gray;\n",
       "}\n",
       "\n",
       ".vega-embed .vega-actions a {\n",
       "  margin-right: 6px;\n",
       "}\n",
       "</style>\n"
      ]
     },
     "metadata": {
      "jupyter-vega": "#23a014e8-15a6-4d31-a5ae-0a7f81f241c5"
     },
     "output_type": "display_data"
    },
    {
     "data": {
      "application/javascript": [
       "var spec = {\"data\": {\"values\": [{\"y\": -0.0001925006909156331, \"x\": 4.002157525185613e-05, \"word\": \"movie\"}, {\"y\": -6.266002473078941e-05, \"x\": 9.832884717330649e-05, \"word\": \"film\"}, {\"y\": -8.05632506470625e-05, \"x\": 0.0001489938560710476, \"word\": \"like\"}, {\"y\": -5.654705209178567e-05, \"x\": 7.289336170414109e-06, \"word\": \"good\"}, {\"y\": -2.6930717602534528e-05, \"x\": -0.00011283968421505643, \"word\": \"time\"}, {\"y\": -5.0880468759287165e-05, \"x\": 4.4365182536740815e-05, \"word\": \"even\"}, {\"y\": 1.1972073316812955e-05, \"x\": -2.9440918176208783e-05, \"word\": \"would\"}, {\"y\": 0.00019817095679073478, \"x\": 1.6089205987332038e-05, \"word\": \"story\"}, {\"y\": -0.00020038546888022723, \"x\": 6.651168114515402e-05, \"word\": \"really\"}, {\"y\": -9.345751645937388e-05, \"x\": -0.00011384297622974275, \"word\": \"well\"}, {\"y\": 9.352775242226322e-05, \"x\": -6.237072265819769e-05, \"word\": \"much\"}, {\"y\": 8.441044097636994e-05, \"x\": 1.3507448274593243e-05, \"word\": \"people\"}, {\"y\": -4.002618627258954e-05, \"x\": -7.498527264965399e-06, \"word\": \"also\"}, {\"y\": -6.821214514189784e-05, \"x\": -0.00012730154595853998, \"word\": \"first\"}, {\"y\": -7.696132438410117e-05, \"x\": -3.7996320043807204e-05, \"word\": \"great\"}, {\"y\": -1.5420661807005914e-05, \"x\": 3.66077653757454e-05, \"word\": \"made\"}, {\"y\": -2.619695502195525e-05, \"x\": -6.606051638527852e-05, \"word\": \"make\"}, {\"y\": -3.1186644557898255e-05, \"x\": 1.778811114177169e-05, \"word\": \"could\"}, {\"y\": 0.00017460010113744647, \"x\": 2.7241634825566857e-06, \"word\": \"movies\"}, {\"y\": 0.0001277283132151481, \"x\": 7.879663674270726e-05, \"word\": \"think\"}]}, \"encoding\": {\"color\": {\"field\": \"word\", \"scale\": {\"range\": \"category20\"}, \"type\": \"nominal\", \"title\": \"Word\"}, \"text\": {\"field\": \"word\", \"type\": \"nominal\"}, \"y\": {\"field\": \"y\", \"type\": \"quantitative\"}, \"x\": {\"field\": \"x\", \"type\": \"quantitative\"}}, \"config\": {\"cell\": {\"width\": 500, \"height\": 350}}, \"mark\": \"text\"};\n",
       "var selector = \"#23a014e8-15a6-4d31-a5ae-0a7f81f241c5\";\n",
       "var type = \"vega-lite\";\n",
       "\n",
       "var output_area = this;\n",
       "require(['nbextensions/jupyter-vega/index'], function(vega) {\n",
       "  vega.render(selector, spec, type, output_area);\n",
       "}, function (err) {\n",
       "  if (err.requireType !== 'scripterror') {\n",
       "    throw(err);\n",
       "  }\n",
       "});\n"
      ]
     },
     "metadata": {
      "jupyter-vega": "#23a014e8-15a6-4d31-a5ae-0a7f81f241c5"
     },
     "output_type": "display_data"
    },
    {
     "data": {
      "image/png": "[encoded data removed]"
     },
     "metadata": {
      "jupyter-vega": "#23a014e8-15a6-4d31-a5ae-0a7f81f241c5"
     },
     "output_type": "display_data"
    }
   ],
   "source": [
    "from altair import *\n",
    "\n",
    "tsne_tidy = pd.DataFrame(top_tsne, columns=['x', 'y'])\n",
    "tsne_tidy['word'] = top_words\n",
    "\n",
    "Chart(tsne_tidy).mark_text().encode(\n",
    "    x='x',\n",
    "    y='y',\n",
    "    color=Color('word', title='Word', scale=Scale(range='category20')),\n",
    "    text='word'\n",
    ")"
   ]
  },
  {
   "cell_type": "markdown",
   "metadata": {},
   "source": [
    "# Models"
   ]
  },
  {
   "cell_type": "markdown",
   "metadata": {},
   "source": [
    "## Prepare the data"
   ]
  },
  {
   "cell_type": "code",
   "execution_count": 13,
   "metadata": {
    "collapsed": false
   },
   "outputs": [],
   "source": [
    "from sklearn.model_selection import train_test_split"
   ]
  },
  {
   "cell_type": "code",
   "execution_count": 14,
   "metadata": {
    "collapsed": true
   },
   "outputs": [],
   "source": [
    "x_train, x_test = train_test_split(dataset, train_size=20000, stratify=dataset['rating'])"
   ]
  },
  {
   "cell_type": "code",
   "execution_count": 15,
   "metadata": {
    "collapsed": false
   },
   "outputs": [],
   "source": [
    "x_valid, x_test = train_test_split(x_test, train_size=2500, stratify=x_test['rating'])"
   ]
  },
  {
   "cell_type": "code",
   "execution_count": 16,
   "metadata": {
    "collapsed": true
   },
   "outputs": [],
   "source": [
    "xs = [x_train, x_valid, x_test]"
   ]
  },
  {
   "cell_type": "code",
   "execution_count": 17,
   "metadata": {
    "collapsed": false
   },
   "outputs": [],
   "source": [
    "y_train, y_valid, y_test = [x['sentiment'] for x in xs]"
   ]
  },
  {
   "cell_type": "code",
   "execution_count": 18,
   "metadata": {
    "collapsed": false
   },
   "outputs": [],
   "source": [
    "x_train, x_valid, x_test = [x.drop('sentiment', axis=1) for x in xs]"
   ]
  },
  {
   "cell_type": "markdown",
   "metadata": {},
   "source": [
    "---\n",
    "\n",
    "# Model 1 (using per word sentiment)"
   ]
  },
  {
   "cell_type": "markdown",
   "metadata": {},
   "source": [
    "## Divide review codes according to partition "
   ]
  },
  {
   "cell_type": "code",
   "execution_count": 19,
   "metadata": {
    "collapsed": false
   },
   "outputs": [],
   "source": [
    "review_codes_train, review_codes_valid, review_codes_test = [review_codes[x.index.values] for x in xs]"
   ]
  },
  {
   "cell_type": "markdown",
   "metadata": {},
   "source": [
    "## Build and train the model\n",
    "\n",
    "First, turn negative reviews into actual negative rows. Then, sum all those rows. The resulting vector indicates which words are positive and which are negative. Knowing this turn negative words into actual negative columns and sum all the columns. The resulting vector indicates which reviews are considered to be positive and which -- negative."
   ]
  },
  {
   "cell_type": "code",
   "execution_count": 20,
   "metadata": {
    "collapsed": false
   },
   "outputs": [],
   "source": [
    "from scipy.sparse import diags\n",
    "\n",
    "signed_review_codes_train = diags([y_train * 2 - 1], [0]) * review_codes_train\n",
    "\n",
    "word_sentiments = np.squeeze(np.asarray(np.sign(np.sum(signed_review_codes_train, axis=0))))\n",
    "\n",
    "def classify_reviews(review_codes):\n",
    "    review_codes_with_signed_words = review_codes * diags([word_sentiments], [0])\n",
    "    return np.squeeze(np.asarray((np.sign(np.sum(review_codes_with_signed_words, axis=1)) + 1) / 2))"
   ]
  },
  {
   "cell_type": "markdown",
   "metadata": {},
   "source": [
    "## Accuracy for train dataset"
   ]
  },
  {
   "cell_type": "code",
   "execution_count": 21,
   "metadata": {
    "collapsed": false
   },
   "outputs": [
    {
     "data": {
      "text/plain": [
       "0.84875"
      ]
     },
     "execution_count": 21,
     "metadata": {},
     "output_type": "execute_result"
    }
   ],
   "source": [
    "np.sum(classify_reviews(review_codes_train) == y_train) / float(len(y_train))"
   ]
  },
  {
   "cell_type": "markdown",
   "metadata": {},
   "source": [
    "## Accuracy for validation dataset"
   ]
  },
  {
   "cell_type": "code",
   "execution_count": 22,
   "metadata": {
    "collapsed": false
   },
   "outputs": [
    {
     "data": {
      "text/plain": [
       "0.80000000000000004"
      ]
     },
     "execution_count": 22,
     "metadata": {},
     "output_type": "execute_result"
    }
   ],
   "source": [
    "np.sum(classify_reviews(review_codes_valid) == y_valid) / float(len(y_valid))"
   ]
  },
  {
   "cell_type": "markdown",
   "metadata": {},
   "source": [
    "## Accuracy for test dataset"
   ]
  },
  {
   "cell_type": "code",
   "execution_count": 23,
   "metadata": {
    "collapsed": false
   },
   "outputs": [
    {
     "data": {
      "text/plain": [
       "0.504"
      ]
     },
     "execution_count": 23,
     "metadata": {},
     "output_type": "execute_result"
    }
   ],
   "source": [
    "np.sum(classify_reviews(review_codes_test) == y_valid) / float(len(y_test))"
   ]
  },
  {
   "cell_type": "markdown",
   "metadata": {},
   "source": [
    "---\n",
    "\n",
    "# Model 2 (using mean word vectors)"
   ]
  },
  {
   "cell_type": "markdown",
   "metadata": {},
   "source": [
    "## Preparing data\n",
    "\n",
    "Some words that reviews contain get thrown away by word2vec model hence the additional step to filter those out."
   ]
  },
  {
   "cell_type": "code",
   "execution_count": 24,
   "metadata": {
    "collapsed": false
   },
   "outputs": [],
   "source": [
    "word_from_feature_idx = {v: k for k, v in vectorizer.vocabulary_.iteritems()}\n",
    "\n",
    "def word_vecs_from_review_code(review_code):\n",
    "    idxs, = np.nonzero(review_code)\n",
    "    words = [word_from_feature_idx[idx] for idx in idxs]\n",
    "    w2v_words = [word for word in words if word in w2v_model]\n",
    "    return w2v_words\n",
    "\n",
    "def word_vecs_from_review_codes(review_codes):\n",
    "    return np.array([word_vecs_from_review_code(np.squeeze(review_code.toarray())) for review_code in review_codes])"
   ]
  },
  {
   "cell_type": "code",
   "execution_count": 25,
   "metadata": {
    "collapsed": false
   },
   "outputs": [],
   "source": [
    "rs = [review_codes_train, review_codes_valid, review_codes_test]\n",
    "word_vec_train, word_vec_valid, word_vec_test = [word_vecs_from_review_codes(r) for r in rs]\n",
    "ws = [word_vec_train, word_vec_valid, word_vec_test]\n",
    "mean_vec_train, mean_vec_valid, mean_vec_test = [np.array([np.mean(w2v_model[t], axis=0) for t in w]) for w in ws]"
   ]
  },
  {
   "cell_type": "markdown",
   "metadata": {},
   "source": [
    "## SVM Classifier with default arguments"
   ]
  },
  {
   "cell_type": "code",
   "execution_count": 26,
   "metadata": {
    "collapsed": false
   },
   "outputs": [],
   "source": [
    "from sklearn import svm\n",
    "clf = svm.SVC()\n",
    "_ = clf.fit(mean_vec_train, y_train)  "
   ]
  },
  {
   "cell_type": "code",
   "execution_count": 27,
   "metadata": {
    "collapsed": false
   },
   "outputs": [
    {
     "name": "stdout",
     "output_type": "stream",
     "text": [
      "Validation accuracy: 0.7428\n",
      "Test accuracy: 0.7408\n"
     ]
    }
   ],
   "source": [
    "from sklearn.metrics import accuracy_score\n",
    "print 'Validation accuracy:', accuracy_score(y_valid, clf.predict(mean_vec_valid))\n",
    "print 'Test accuracy:', accuracy_score(y_test, clf.predict(mean_vec_test))"
   ]
  },
  {
   "cell_type": "markdown",
   "metadata": {},
   "source": [
    "## One hidden layer NN"
   ]
  },
  {
   "cell_type": "code",
   "execution_count": 28,
   "metadata": {
    "collapsed": true
   },
   "outputs": [],
   "source": [
    "from keras.models import Sequential\n",
    "from keras.layers.core import Dense"
   ]
  },
  {
   "cell_type": "code",
   "execution_count": 29,
   "metadata": {
    "collapsed": true
   },
   "outputs": [],
   "source": [
    "def chart_acc(fit_history):\n",
    "    from altair import Chart\n",
    "    import pandas as pd\n",
    "    \n",
    "    history = pd.DataFrame(fit_history.history)\n",
    "    history['epoch'] = range(len(history))\n",
    "\n",
    "    tidy_history = pd.melt(history,\n",
    "                           id_vars=['epoch'],\n",
    "                           value_vars=['val_acc', 'acc'],\n",
    "                           var_name='metric')\n",
    "    \n",
    "    return Chart(tidy_history).mark_line().encode(\n",
    "        x='epoch:O',\n",
    "        y='value:Q',\n",
    "        color='metric'\n",
    "    )"
   ]
  },
  {
   "cell_type": "code",
   "execution_count": 30,
   "metadata": {
    "collapsed": false
   },
   "outputs": [],
   "source": [
    "nn_model = Sequential([\n",
    "        Dense(512, activation='relu', input_shape=(100,)),\n",
    "        Dense(2, activation='softmax')])\n",
    "\n",
    "nn_model.compile(loss='sparse_categorical_crossentropy',\n",
    "                optimizer='adam',\n",
    "                metrics=['accuracy'])"
   ]
  },
  {
   "cell_type": "code",
   "execution_count": 31,
   "metadata": {
    "collapsed": false
   },
   "outputs": [
    {
     "name": "stdout",
     "output_type": "stream",
     "text": [
      "____________________________________________________________________________________________________\n",
      "Layer (type)                     Output Shape          Param #     Connected to                     \n",
      "====================================================================================================\n",
      "dense_1 (Dense)                  (None, 512)           51712       dense_input_1[0][0]              \n",
      "____________________________________________________________________________________________________\n",
      "dense_2 (Dense)                  (None, 2)             1026        dense_1[0][0]                    \n",
      "====================================================================================================\n",
      "Total params: 52738\n",
      "____________________________________________________________________________________________________\n"
     ]
    }
   ],
   "source": [
    "nn_model.summary()"
   ]
  },
  {
   "cell_type": "code",
   "execution_count": 32,
   "metadata": {
    "collapsed": false
   },
   "outputs": [
    {
     "name": "stdout",
     "output_type": "stream",
     "text": [
      "Train on 20000 samples, validate on 2500 samples\n",
      "Epoch 1/20\n",
      "20000/20000 [==============================] - 3s - loss: 0.5400 - acc: 0.7389 - val_loss: 0.4567 - val_acc: 0.7948\n",
      "Epoch 2/20\n",
      "20000/20000 [==============================] - 3s - loss: 0.4283 - acc: 0.8082 - val_loss: 0.4206 - val_acc: 0.8116\n",
      "Epoch 3/20\n",
      "20000/20000 [==============================] - 3s - loss: 0.4111 - acc: 0.8167 - val_loss: 0.4115 - val_acc: 0.8188\n",
      "Epoch 4/20\n",
      "20000/20000 [==============================] - 3s - loss: 0.4048 - acc: 0.8211 - val_loss: 0.4093 - val_acc: 0.8224\n",
      "Epoch 5/20\n",
      "20000/20000 [==============================] - 3s - loss: 0.4010 - acc: 0.8215 - val_loss: 0.4151 - val_acc: 0.8096\n",
      "Epoch 6/20\n",
      "20000/20000 [==============================] - 4s - loss: 0.3980 - acc: 0.8226 - val_loss: 0.4034 - val_acc: 0.8256\n",
      "Epoch 7/20\n",
      "20000/20000 [==============================] - 4s - loss: 0.3939 - acc: 0.8258 - val_loss: 0.4041 - val_acc: 0.8208\n",
      "Epoch 8/20\n",
      "20000/20000 [==============================] - 4s - loss: 0.3932 - acc: 0.8248 - val_loss: 0.4090 - val_acc: 0.8108\n",
      "Epoch 9/20\n",
      "20000/20000 [==============================] - 3s - loss: 0.3909 - acc: 0.8262 - val_loss: 0.4098 - val_acc: 0.8136\n",
      "Epoch 10/20\n",
      "20000/20000 [==============================] - 3s - loss: 0.3902 - acc: 0.8266 - val_loss: 0.4013 - val_acc: 0.8224\n",
      "Epoch 11/20\n",
      "20000/20000 [==============================] - 3s - loss: 0.3876 - acc: 0.8297 - val_loss: 0.4142 - val_acc: 0.8080\n",
      "Epoch 12/20\n",
      "20000/20000 [==============================] - 3s - loss: 0.3872 - acc: 0.8287 - val_loss: 0.3974 - val_acc: 0.8244\n",
      "Epoch 13/20\n",
      "20000/20000 [==============================] - 3s - loss: 0.3871 - acc: 0.8270 - val_loss: 0.4004 - val_acc: 0.8208\n",
      "Epoch 14/20\n",
      "20000/20000 [==============================] - 3s - loss: 0.3847 - acc: 0.8291 - val_loss: 0.4137 - val_acc: 0.8088\n",
      "Epoch 15/20\n",
      "20000/20000 [==============================] - 4s - loss: 0.3839 - acc: 0.8310 - val_loss: 0.4016 - val_acc: 0.8132\n",
      "Epoch 16/20\n",
      "20000/20000 [==============================] - 4s - loss: 0.3848 - acc: 0.8287 - val_loss: 0.3970 - val_acc: 0.8184\n",
      "Epoch 17/20\n",
      "20000/20000 [==============================] - 4s - loss: 0.3829 - acc: 0.8314 - val_loss: 0.3949 - val_acc: 0.8196\n",
      "Epoch 18/20\n",
      "20000/20000 [==============================] - 4s - loss: 0.3829 - acc: 0.8291 - val_loss: 0.3932 - val_acc: 0.8224\n",
      "Epoch 19/20\n",
      "20000/20000 [==============================] - 4s - loss: 0.3807 - acc: 0.8330 - val_loss: 0.4058 - val_acc: 0.8136\n",
      "Epoch 20/20\n",
      "20000/20000 [==============================] - 3s - loss: 0.3795 - acc: 0.8323 - val_loss: 0.3966 - val_acc: 0.8240\n"
     ]
    }
   ],
   "source": [
    "nn_fit_history = nn_model.fit(mean_vec_train, y_train,\n",
    "                    batch_size=128, nb_epoch=20, verbose=1,\n",
    "                    validation_data=(mean_vec_valid, y_valid))"
   ]
  },
  {
   "cell_type": "code",
   "execution_count": 33,
   "metadata": {
    "collapsed": false
   },
   "outputs": [
    {
     "data": {
      "text/html": [
       "<div class=\"vega-embed\" id=\"d9ee20d9-15e0-40a4-9d75-fb6f5158cdd8\"></div>\n",
       "\n",
       "<style>\n",
       ".vega-embed svg, .vega-embed canvas {\n",
       "  border: 1px dotted gray;\n",
       "}\n",
       "\n",
       ".vega-embed .vega-actions a {\n",
       "  margin-right: 6px;\n",
       "}\n",
       "</style>\n"
      ]
     },
     "metadata": {
      "jupyter-vega": "#d9ee20d9-15e0-40a4-9d75-fb6f5158cdd8"
     },
     "output_type": "display_data"
    },
    {
     "data": {
      "application/javascript": [
       "var spec = {\"data\": {\"values\": [{\"epoch\": 0, \"metric\": \"val_acc\", \"value\": 0.7947999995231628}, {\"epoch\": 1, \"metric\": \"val_acc\", \"value\": 0.8116000002861022}, {\"epoch\": 2, \"metric\": \"val_acc\", \"value\": 0.8187999999046326}, {\"epoch\": 3, \"metric\": \"val_acc\", \"value\": 0.8223999999046325}, {\"epoch\": 4, \"metric\": \"val_acc\", \"value\": 0.809600000667572}, {\"epoch\": 5, \"metric\": \"val_acc\", \"value\": 0.8256000002861023}, {\"epoch\": 6, \"metric\": \"val_acc\", \"value\": 0.8208000002861023}, {\"epoch\": 7, \"metric\": \"val_acc\", \"value\": 0.8107999999046326}, {\"epoch\": 8, \"metric\": \"val_acc\", \"value\": 0.8135999994277954}, {\"epoch\": 9, \"metric\": \"val_acc\", \"value\": 0.8223999999046325}, {\"epoch\": 10, \"metric\": \"val_acc\", \"value\": 0.8079999999046326}, {\"epoch\": 11, \"metric\": \"val_acc\", \"value\": 0.8244000002861023}, {\"epoch\": 12, \"metric\": \"val_acc\", \"value\": 0.820800000667572}, {\"epoch\": 13, \"metric\": \"val_acc\", \"value\": 0.8088000002861023}, {\"epoch\": 14, \"metric\": \"val_acc\", \"value\": 0.8132000002861023}, {\"epoch\": 15, \"metric\": \"val_acc\", \"value\": 0.8184000002861023}, {\"epoch\": 16, \"metric\": \"val_acc\", \"value\": 0.8195999999046326}, {\"epoch\": 17, \"metric\": \"val_acc\", \"value\": 0.8224000002861023}, {\"epoch\": 18, \"metric\": \"val_acc\", \"value\": 0.8136000002861022}, {\"epoch\": 19, \"metric\": \"val_acc\", \"value\": 0.8239999994277954}, {\"epoch\": 0, \"metric\": \"acc\", \"value\": 0.73895}, {\"epoch\": 1, \"metric\": \"acc\", \"value\": 0.80815}, {\"epoch\": 2, \"metric\": \"acc\", \"value\": 0.81675}, {\"epoch\": 3, \"metric\": \"acc\", \"value\": 0.8211}, {\"epoch\": 4, \"metric\": \"acc\", \"value\": 0.8215}, {\"epoch\": 5, \"metric\": \"acc\", \"value\": 0.82265}, {\"epoch\": 6, \"metric\": \"acc\", \"value\": 0.82585}, {\"epoch\": 7, \"metric\": \"acc\", \"value\": 0.8248}, {\"epoch\": 8, \"metric\": \"acc\", \"value\": 0.82625}, {\"epoch\": 9, \"metric\": \"acc\", \"value\": 0.82655}, {\"epoch\": 10, \"metric\": \"acc\", \"value\": 0.8297}, {\"epoch\": 11, \"metric\": \"acc\", \"value\": 0.82875}, {\"epoch\": 12, \"metric\": \"acc\", \"value\": 0.827}, {\"epoch\": 13, \"metric\": \"acc\", \"value\": 0.8291}, {\"epoch\": 14, \"metric\": \"acc\", \"value\": 0.83105}, {\"epoch\": 15, \"metric\": \"acc\", \"value\": 0.8287}, {\"epoch\": 16, \"metric\": \"acc\", \"value\": 0.83135}, {\"epoch\": 17, \"metric\": \"acc\", \"value\": 0.8291}, {\"epoch\": 18, \"metric\": \"acc\", \"value\": 0.833}, {\"epoch\": 19, \"metric\": \"acc\", \"value\": 0.8323}]}, \"encoding\": {\"color\": {\"field\": \"metric\", \"type\": \"nominal\"}, \"x\": {\"field\": \"epoch\", \"type\": \"ordinal\"}, \"y\": {\"field\": \"value\", \"type\": \"quantitative\"}}, \"config\": {\"cell\": {\"width\": 500, \"height\": 350}}, \"mark\": \"line\"};\n",
       "var selector = \"#d9ee20d9-15e0-40a4-9d75-fb6f5158cdd8\";\n",
       "var type = \"vega-lite\";\n",
       "\n",
       "var output_area = this;\n",
       "require(['nbextensions/jupyter-vega/index'], function(vega) {\n",
       "  vega.render(selector, spec, type, output_area);\n",
       "}, function (err) {\n",
       "  if (err.requireType !== 'scripterror') {\n",
       "    throw(err);\n",
       "  }\n",
       "});\n"
      ]
     },
     "metadata": {
      "jupyter-vega": "#d9ee20d9-15e0-40a4-9d75-fb6f5158cdd8"
     },
     "output_type": "display_data"
    },
    {
     "data": {
      "image/png": "[encoded data removed]"
     },
     "metadata": {
      "jupyter-vega": "#d9ee20d9-15e0-40a4-9d75-fb6f5158cdd8"
     },
     "output_type": "display_data"
    }
   ],
   "source": [
    "chart_acc(nn_fit_history)"
   ]
  },
  {
   "cell_type": "code",
   "execution_count": 34,
   "metadata": {
    "collapsed": false
   },
   "outputs": [
    {
     "name": "stdout",
     "output_type": "stream",
     "text": [
      "2500/2500 [==============================] - 0s     \n",
      "Test score: 0.371758093834\n",
      "Test accuracy: 0.8372\n"
     ]
    }
   ],
   "source": [
    "score = nn_model.evaluate(mean_vec_test, y_test, verbose=1)\n",
    "print 'Test score:', score[0]\n",
    "print 'Test accuracy:', score[1]"
   ]
  },
  {
   "cell_type": "markdown",
   "metadata": {},
   "source": [
    "---\n",
    "\n",
    "# Model 3 (RNN)"
   ]
  },
  {
   "cell_type": "code",
   "execution_count": 35,
   "metadata": {
    "collapsed": false
   },
   "outputs": [],
   "source": [
    "from keras.models import Sequential\n",
    "from keras.layers.core import Dense\n",
    "from keras.layers import Embedding, LSTM, GRU"
   ]
  },
  {
   "cell_type": "code",
   "execution_count": 58,
   "metadata": {
    "collapsed": true
   },
   "outputs": [],
   "source": [
    "word_index = {word: (index + 1) for index, word in enumerate(w2v_model.index2word)}"
   ]
  },
  {
   "cell_type": "code",
   "execution_count": 59,
   "metadata": {
    "collapsed": true
   },
   "outputs": [],
   "source": [
    "idx_vec_train = np.array([np.array([word_index[w] for w in mat]) for mat in word_vec_train])\n",
    "idx_vec_valid = np.array([np.array([word_index[w] for w in mat]) for mat in word_vec_valid])\n",
    "idx_vec_test = np.array([np.array([word_index[w] for w in mat]) for mat in word_vec_test])"
   ]
  },
  {
   "cell_type": "code",
   "execution_count": 60,
   "metadata": {
    "collapsed": false
   },
   "outputs": [],
   "source": [
    "max_train_len = max([x.shape[0] for x in idx_vec_train])\n",
    "max_valid_len = max([x.shape[0] for x in idx_vec_valid])\n",
    "max_test_len = max([x.shape[0] for x in idx_vec_test])"
   ]
  },
  {
   "cell_type": "code",
   "execution_count": 61,
   "metadata": {
    "collapsed": true
   },
   "outputs": [],
   "source": [
    "max_len = max([max_train_len, max_valid_len, max_test_len])"
   ]
  },
  {
   "cell_type": "code",
   "execution_count": 62,
   "metadata": {
    "collapsed": false
   },
   "outputs": [],
   "source": [
    "from keras.preprocessing.sequence import pad_sequences\n",
    "\n",
    "pidx_vec_train = pad_sequences(idx_vec_train, maxlen=max_len)\n",
    "pidx_vec_valid = pad_sequences(idx_vec_valid, maxlen=max_len)\n",
    "pidx_vec_test = pad_sequences(idx_vec_test, maxlen=max_len)"
   ]
  },
  {
   "cell_type": "code",
   "execution_count": 63,
   "metadata": {
    "collapsed": true
   },
   "outputs": [],
   "source": [
    "w2v_weights = np.insert(w2v_model.syn0, 0, 0, axis=0)\n",
    "w2v_dim = 100\n",
    "nb_word = w2v_model.syn0.shape[0] + 1"
   ]
  },
  {
   "cell_type": "code",
   "execution_count": 64,
   "metadata": {
    "collapsed": false
   },
   "outputs": [],
   "source": [
    "rnn_model = Sequential([\n",
    "        Embedding(nb_word, \n",
    "                  w2v_dim,\n",
    "                  mask_zero=True,\n",
    "                  weights=[w2v_weights], \n",
    "                  input_length=max_len),\n",
    "        LSTM(w2v_dim),\n",
    "        Dense(2, activation='softmax')])\n",
    "\n",
    "rnn_model.compile(loss='sparse_categorical_crossentropy',\n",
    "                optimizer='adam',\n",
    "                metrics=['accuracy'])"
   ]
  },
  {
   "cell_type": "code",
   "execution_count": null,
   "metadata": {
    "collapsed": false
   },
   "outputs": [
    {
     "name": "stdout",
     "output_type": "stream",
     "text": [
      "Train on 20000 samples, validate on 2500 samples\n",
      "Epoch 1/20\n",
      "20000/20000 [==============================] - 1798s - loss: 0.4085 - acc: 0.8154 - val_loss: 0.2821 - val_acc: 0.8852\n",
      "Epoch 2/20\n",
      "  896/20000 [>.............................] - ETA: 1700s - loss: 0.2010 - acc: 0.9364"
     ]
    }
   ],
   "source": [
    "rnn_fit_history = rnn_model.fit(pidx_vec_train, y_train,\n",
    "                    batch_size=128, nb_epoch=20, verbose=1,\n",
    "                    validation_data=(pidx_vec_valid, y_valid))"
   ]
  },
  {
   "cell_type": "code",
   "execution_count": null,
   "metadata": {
    "collapsed": true
   },
   "outputs": [],
   "source": []
  }
 ],
 "metadata": {
  "kernelspec": {
   "display_name": "Python 2",
   "language": "python",
   "name": "python2"
  },
  "language_info": {
   "codemirror_mode": {
    "name": "ipython",
    "version": 2
   },
   "file_extension": ".py",
   "mimetype": "text/x-python",
   "name": "python",
   "nbconvert_exporter": "python",
   "pygments_lexer": "ipython2",
   "version": "2.7.6"
  }
 },
 "nbformat": 4,
 "nbformat_minor": 1
}

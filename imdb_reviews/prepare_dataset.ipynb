{
 "cells": [
  {
   "cell_type": "code",
   "execution_count": 1,
   "metadata": {
    "collapsed": false
   },
   "outputs": [],
   "source": [
    "import csv\n",
    "import numpy as np\n",
    "import pandas as pd"
   ]
  },
  {
   "cell_type": "code",
   "execution_count": 2,
   "metadata": {
    "collapsed": true
   },
   "outputs": [],
   "source": [
    "def remove_enclosing_quotes(s):\n",
    "    return s[1:-1]"
   ]
  },
  {
   "cell_type": "code",
   "execution_count": 3,
   "metadata": {
    "collapsed": false
   },
   "outputs": [],
   "source": [
    "from dplython import DplyFrame, X, mutate, select, rename\n",
    "\n",
    "dataset = DplyFrame(pd.read_csv('../datasets/imdb_reviews.tsv', sep='\\t', quoting=csv.QUOTE_NONE))\n",
    "dataset = (dataset >> \n",
    "           mutate(id=X.id.map(remove_enclosing_quotes),\n",
    "                  review=X.review.map(remove_enclosing_quotes)))\n",
    "id_rating = dataset['id'].str.split('_', expand=True)\n",
    "dataset = pd.concat((dataset, id_rating), axis=1)\n",
    "dataset = (dataset >> \n",
    "           select(X[0], X[1], X.sentiment, X.review) >>\n",
    "           rename(id=X[0], rating=X[1]))"
   ]
  },
  {
   "cell_type": "code",
   "execution_count": 4,
   "metadata": {
    "collapsed": true
   },
   "outputs": [],
   "source": [
    "def clean_review(review_text):\n",
    "    from bs4 import BeautifulSoup \n",
    "    import nltk.data\n",
    "    from nltk.corpus import stopwords\n",
    "    import codecs\n",
    "    \n",
    "    tokenizer = nltk.data.load('tokenizers/punkt/english.pickle')\n",
    "    \n",
    "    text = BeautifulSoup(review_text, \"html.parser\").get_text().lower().encode('utf-8').decode('string_escape')\n",
    "    sentences = tokenizer.tokenize(text.strip().decode('utf-8'))\n",
    "    \n",
    "    return [[w for w in s.split() if w not in stopwords.words('english')] for s in sentences if len(s) > 0]"
   ]
  },
  {
   "cell_type": "code",
   "execution_count": 5,
   "metadata": {
    "collapsed": false
   },
   "outputs": [
    {
     "name": "stderr",
     "output_type": "stream",
     "text": [
      "Cleaning reviews: 100%|██████████| 25000/25000 [12:38<00:00, 32.97it/s]\n"
     ]
    }
   ],
   "source": [
    "from tqdm import tqdm, tqdm_notebook\n",
    "\n",
    "tqdm.pandas(tqdm_notebook, desc='Cleaning reviews')\n",
    "\n",
    "dataset['review'] = dataset['review'].progress_map(clean_review)"
   ]
  },
  {
   "cell_type": "code",
   "execution_count": 6,
   "metadata": {
    "collapsed": true
   },
   "outputs": [],
   "source": [
    "with open('../datasets/imdb_reviews.pcl2', 'wb') as pcl_file:\n",
    "    import pickle\n",
    "    pickle.dump(pd.DataFrame(dataset), pcl_file)"
   ]
  }
 ],
 "metadata": {
  "kernelspec": {
   "display_name": "Python 2",
   "language": "python",
   "name": "python2"
  },
  "language_info": {
   "codemirror_mode": {
    "name": "ipython",
    "version": 2
   },
   "file_extension": ".py",
   "mimetype": "text/x-python",
   "name": "python",
   "nbconvert_exporter": "python",
   "pygments_lexer": "ipython2",
   "version": "2.7.6"
  }
 },
 "nbformat": 4,
 "nbformat_minor": 1
}
